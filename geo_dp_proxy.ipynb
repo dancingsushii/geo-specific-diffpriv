{
 "cells": [
  {
   "cell_type": "markdown",
   "id": "564bef65",
   "metadata": {},
   "source": [
    "# Installation"
   ]
  },
  {
   "cell_type": "markdown",
   "id": "df0793c0",
   "metadata": {},
   "source": [
    "Run the folowing 3 cells to install the required packages as well as import then and then hide the warnings."
   ]
  },
  {
   "cell_type": "code",
   "execution_count": 5,
   "id": "3f6c6e6e",
   "metadata": {},
   "outputs": [],
   "source": [
    "#!pip install -r requirements.txt"
   ]
  },
  {
   "cell_type": "code",
   "execution_count": 2,
   "id": "5c641619",
   "metadata": {},
   "outputs": [],
   "source": [
    "import maskpass  # to hide/mask the password\n",
    "import psycopg2\n",
    "import math\n",
    "import geopandas as gpd\n",
    "from shapely.geometry import Point, Polygon\n",
    "from shapely.ops import polygonize\n",
    "import fiona\n",
    "import matplotlib.pyplot as plt\n",
    "import shapely\n",
    "import numpy as np\n",
    "import csv\n",
    "import pandas as pd\n",
    "from shapely import wkt\n",
    "import folium\n",
    "from gcloud import storage\n",
    "import getpass\n",
    "import warnings\n",
    "import subprocess"
   ]
  },
  {
   "cell_type": "code",
   "execution_count": 3,
   "id": "c153a6a3",
   "metadata": {},
   "outputs": [],
   "source": [
    "warnings.filterwarnings('ignore')"
   ]
  },
  {
   "cell_type": "markdown",
   "id": "46283fa9",
   "metadata": {},
   "source": [
    "# Functions"
   ]
  },
  {
   "cell_type": "markdown",
   "id": "db7787d9",
   "metadata": {},
   "source": [
    "Run the cells below to have all the required functions."
   ]
  },
  {
   "cell_type": "code",
   "execution_count": 7,
   "id": "f772b235",
   "metadata": {},
   "outputs": [],
   "source": [
    "def db_conn():\n",
    "    # Masking the password, the user will be asked for the password\n",
    "    #pwd = maskpass.askpass(mask=\"\") \n",
    "    # To connect to database. Update IP, port, database and user to your values.\n",
    "    conn = psycopg2.connect(\n",
    "        host=\"34.159.36.105\",#\"localhost\",\n",
    "        port =\"5432\",\n",
    "        database=\"geodp\",\n",
    "        user=\"postgres\", \n",
    "        password='postgres')#pwd)\n",
    "    cur = conn.cursor()\n",
    "\n",
    "    return cur, conn"
   ]
  },
  {
   "cell_type": "code",
   "execution_count": 9,
   "id": "26404ab6",
   "metadata": {},
   "outputs": [],
   "source": [
    "def get_geometry(table):\n",
    "    cursor, conn = db_conn()\n",
    "    cursor.execute(\"SELECT st_x(geom), st_y(geom), state FROM \"+table+\";\")\n",
    "    rows = cursor.fetchall()\n",
    "    cursor.close()\n",
    "\n",
    "    result = []\n",
    "    for index in range(len(rows)):\n",
    "        result.append([\n",
    "            rows[index][0],\n",
    "            rows[index][1],\n",
    "            rows[index][2]\n",
    "            \n",
    "        ])\n",
    "    \n",
    "    return result"
   ]
  },
  {
   "cell_type": "code",
   "execution_count": 30,
   "id": "eb2dfd85",
   "metadata": {},
   "outputs": [],
   "source": [
    "def get_initial_points(table):\n",
    "    l = get_geometry(table)\n",
    "    x = []\n",
    "    y = []\n",
    "    states = []\n",
    "    for i in l:\n",
    "        x.append(i[0])\n",
    "        y.append(i[1])\n",
    "        states.append(i[2])\n",
    "    states = list(set(states))\n",
    "    points = gpd.GeoDataFrame({\"x\":x,\"y\":y})\n",
    "    points['geometry'] = points.apply(lambda p: Point(p.x, p.y), axis=1)\n",
    "    points_unique = points.drop_duplicates()\n",
    "\n",
    "    return points_unique,states"
   ]
  },
  {
   "cell_type": "code",
   "execution_count": 8,
   "id": "9ef33c0c",
   "metadata": {},
   "outputs": [],
   "source": [
    "def get_grid_size(n,eps):\n",
    "    c = 10\n",
    "    #epsilon = 0.1\n",
    "    #print(n)\n",
    "    m = math.sqrt((n*eps)/c)\n",
    "    #print(m)\n",
    "    return m"
   ]
  },
  {
   "cell_type": "code",
   "execution_count": 15,
   "id": "80d6d006",
   "metadata": {
    "scrolled": false
   },
   "outputs": [],
   "source": [
    "#initial_points,states_list = get_initial_points(\"smalldata\")"
   ]
  },
  {
   "cell_type": "code",
   "execution_count": 11,
   "id": "2a03a9a5",
   "metadata": {},
   "outputs": [],
   "source": [
    "def create_grid(points_unique,n,eps):\n",
    "    cell_size = get_grid_size(n,eps) #0.7616 \n",
    "    xmin, ymin, xmax, ymax= points_unique.total_bounds\n",
    "    crs = \"+proj=sinu +lon_0=0 +x_0=0 +y_0=0 +a=6371007.181 +b=6371007.181 +units=m +no_defs\"\n",
    "    # create the cells \n",
    "    grid = []\n",
    "    for x0 in np.arange(xmin, xmax+cell_size, cell_size):\n",
    "        for y0 in np.arange(ymin, ymax+cell_size, cell_size):\n",
    "            x1 = x0-cell_size\n",
    "            y1 = y0+cell_size\n",
    "            grid.append(shapely.geometry.box(x0, y0, x1, y1))\n",
    "    cell = gpd.GeoDataFrame(grid, columns=['geometry'], \n",
    "                                    crs=crs)\n",
    "\n",
    "    return cell"
   ]
  },
  {
   "cell_type": "code",
   "execution_count": 17,
   "id": "628894d4",
   "metadata": {},
   "outputs": [],
   "source": [
    "#cell = create_grid(initial_points, len(initial_points))"
   ]
  },
  {
   "cell_type": "code",
   "execution_count": 41,
   "id": "8f3b124f",
   "metadata": {},
   "outputs": [],
   "source": [
    "def plot_points(points,cells,states_list):\n",
    "    \n",
    "    states = gpd.read_file('states/tl_2021_us_state.shp')\n",
    "    states = states.to_crs(\"EPSG:4326\")\n",
    "    states.boundary.plot(color = 'grey')\n",
    "    #print(states[states['NAME'].isin(states_list)])\n",
    "    base = states[states['NAME'].isin(states_list)].plot(color='white', edgecolor='black',figsize=(12, 8))\n",
    "    plt.autoscale(False)\n",
    "    points.plot(ax=base, marker='o', color='blue', markersize=5)\n",
    "    cells.plot(ax=base, facecolor=\"none\", edgecolor='grey')\n",
    "    base.axis(\"off\")"
   ]
  },
  {
   "cell_type": "code",
   "execution_count": 12,
   "id": "3823752d",
   "metadata": {},
   "outputs": [],
   "source": [
    "#plot_points(initial_points,cell,states_list)"
   ]
  },
  {
   "cell_type": "code",
   "execution_count": 13,
   "id": "e482c390",
   "metadata": {},
   "outputs": [],
   "source": [
    "def get_cell_counts(points_unique,cell, eps):\n",
    "    cell = cell.reset_index().rename(columns = {'index':'id'})\n",
    "    #join the cells and points and remove duplicates if there are\n",
    "    pointInPolygons = gpd.sjoin(points_unique, cell, how='inner', op = 'intersects')\n",
    "    pointInPolygons = pointInPolygons.drop_duplicates(subset=['x', 'y'], keep='first')\n",
    "    #count the initial points\n",
    "    count_points = pointInPolygons.groupby(['id']).size().reset_index(name='count')\n",
    "    cell_counts = pd.merge(cell,count_points, on = 'id')\n",
    "    \n",
    "    #apply the noise and round the counts\n",
    "    #eps = 0.1\n",
    "    dp_count = []\n",
    "    for row in cell_counts.iterrows():\n",
    "        dp_count.append(row[1]['count']+np.random.laplace(0, 1 / eps, 1)[0])\n",
    "    cell_counts['count_dp'] = dp_count\n",
    "    cell_counts['count_dp'] = cell_counts['count_dp'].apply(lambda x : x if x > 0 else 0)\n",
    "    cell_counts['count_dp_rounded'] = round(cell_counts['count_dp'])\n",
    "    #cell_counts[cell_counts['count_dp_rounded']<0]\n",
    "    return cell_counts\n"
   ]
  },
  {
   "cell_type": "code",
   "execution_count": 24,
   "id": "08f6054c",
   "metadata": {},
   "outputs": [],
   "source": [
    "#cell_counts = get_cell_counts(initial_points, cell)"
   ]
  },
  {
   "cell_type": "code",
   "execution_count": 14,
   "id": "eb5ffb3e",
   "metadata": {},
   "outputs": [],
   "source": [
    "def get_polygons(cell_counts):\n",
    "    polygons = {}\n",
    "    for i in range(0,cell_counts.count()[0]):\n",
    "        polygons[wkt.dumps(cell_counts['geometry'][i])] = cell_counts['count_dp_rounded'][i]\n",
    "    return polygons"
   ]
  },
  {
   "cell_type": "code",
   "execution_count": 15,
   "id": "6b7ebd1a",
   "metadata": {},
   "outputs": [],
   "source": [
    "def new_points(polygon,n):\n",
    "    cursor, conn = db_conn()\n",
    "    cursor.execute(\"select st_asText(ST_GeneratePoints(ST_GeomFromText('\"+polygon+\"'),\"+str(n)+\"));\")\n",
    "    rows = cursor.fetchall()\n",
    "    cursor.close()\n",
    "\n",
    "    result = []\n",
    "    for index in range(len(rows)):\n",
    "        result.append([\n",
    "            rows[index][0]\n",
    "            \n",
    "        ])\n",
    "    points = result[0][0].replace('MULTIPOINT(','').replace(\")\",\"\")\n",
    "    point_list = points.split(\",\")\n",
    "    x_y = []\n",
    "    for i in point_list:\n",
    "        x_y.append(i.split(\" \"))\n",
    "    return x_y"
   ]
  },
  {
   "cell_type": "code",
   "execution_count": 16,
   "id": "430e95a7",
   "metadata": {},
   "outputs": [],
   "source": [
    "def get_all_new_points(polygons):\n",
    "    all_new_points = []\n",
    "    for pol in polygons:\n",
    "        if polygons[pol].astype('int')!=0:\n",
    "        \n",
    "            p = new_points(pol,polygons[pol].astype('int'))\n",
    "            all_new_points.append(p)\n",
    "    \n",
    "    return all_new_points"
   ]
  },
  {
   "cell_type": "code",
   "execution_count": 30,
   "id": "d48880e0",
   "metadata": {},
   "outputs": [],
   "source": [
    "'''cell_counts = get_cell_counts(initial_points,cell)\n",
    "polygons = get_polygons(cell_counts)\n",
    "all_new_points = get_all_new_points(polygons)'''"
   ]
  },
  {
   "cell_type": "code",
   "execution_count": 17,
   "id": "7f1900ba",
   "metadata": {},
   "outputs": [],
   "source": [
    "def create_new_table():\n",
    "    cursor, conn = db_conn()\n",
    "    cursor.execute(\"CREATE TABLE IF NOT EXISTS  test  ( new_id int4 primary key, new_geom geometry(POINT,4326) );\")\n",
    "    conn.commit()\n",
    "    cursor.close()"
   ]
  },
  {
   "cell_type": "code",
   "execution_count": 18,
   "id": "24becd17",
   "metadata": {},
   "outputs": [],
   "source": [
    "def generate_df_for_new_table(points):\n",
    "    point_dict = {'before':[],'x': [],'between':[], 'y': [], 'after':[]}\n",
    "    for pol in points:\n",
    "        \n",
    "        for point in pol:\n",
    "            \n",
    "            point_dict['before'].append('SRID=4326;POINT(')\n",
    "            point_dict['x'].append(point[0])\n",
    "            point_dict['between'].append(' ')\n",
    "            point_dict['y'].append(point[1])\n",
    "            point_dict['after'].append(')')\n",
    "            \n",
    "    points_df = pd.DataFrame.from_dict(point_dict)\n",
    "    return points_df"
   ]
  },
  {
   "cell_type": "code",
   "execution_count": 19,
   "id": "e3cb4984",
   "metadata": {},
   "outputs": [],
   "source": [
    "def generate_csv_for_new_table(df):\n",
    "    df = df.reset_index().rename(columns = {'index':'id'})\n",
    "    df[\"geom\"] = df[[\"before\",\"x\", \"between\",\"y\", \"after\"]].apply(\"\".join, axis=1)\n",
    "    df = df.drop(columns=[\"before\",\"x\", \"between\",\"y\", \"after\"])\n",
    "    \n",
    "    df.to_csv('points.csv',index = False)\n",
    "    #put the file to the vm\n",
    "    rc = subprocess.call(\"./upload_csv.sh\", shell=True)"
   ]
  },
  {
   "cell_type": "code",
   "execution_count": 104,
   "id": "95f3ecf7",
   "metadata": {},
   "outputs": [],
   "source": [
    "'''def generate_new_points_df(all_new_points):\n",
    "    df_new_points = generate_df_for_new_table(all_new_points).drop(columns=[\"before\", \"between\", \"after\"])\n",
    "    new_points_gpd = gpd.GeoDataFrame(\n",
    "    df_new_points, geometry=gpd.points_from_xy(df_new_points['x'], df_new_points['y']))\n",
    "    return new_points_gpd'''"
   ]
  },
  {
   "cell_type": "code",
   "execution_count": 105,
   "id": "3d9b7be9",
   "metadata": {},
   "outputs": [],
   "source": [
    "#df = generate_df_for_new_table(all_new_points)\n",
    "#generate_csv_for_new_table(df)\n",
    "#newpoints = generate_new_points_df(all_new_points)"
   ]
  },
  {
   "cell_type": "code",
   "execution_count": 20,
   "id": "ee3c5b75",
   "metadata": {},
   "outputs": [],
   "source": [
    "def insert_csv_into_new_table():\n",
    "    cursor, conn = db_conn()\n",
    "    cursor.execute(\"delete from test;\")\n",
    "    user = getpass.getuser()\n",
    "    cursor.execute(\"COPY test FROM '/home/ingastrelnikova28_gmail_com/points.csv' DELIMITERS ',' CSV HEADER;\")\n",
    "    conn.commit()\n",
    "    cursor.close()"
   ]
  },
  {
   "cell_type": "code",
   "execution_count": 21,
   "id": "b88f1aeb",
   "metadata": {},
   "outputs": [],
   "source": [
    "def bounding_box():\n",
    "    cursor, conn = db_conn()\n",
    "    cursor.execute(\"select ST_AsText(ST_Envelope(ST_Collect(geom))) as bounding_box from test;\")\n",
    "    rows = cursor.fetchall()\n",
    "    result = []\n",
    "    for index in range(len(rows)):\n",
    "        result.append([\n",
    "            rows[index][0]\n",
    "        ])\n",
    "    cursor.close()\n",
    "    polygon_postgis = result[0]\n",
    "    x_y = []\n",
    "    x = []\n",
    "    y = []\n",
    "    polygon_postgis = polygon_postgis[0].replace('POLYGON((','').replace(\"))\",\"\")\n",
    "    points_list = polygon_postgis.split(\",\")\n",
    "    for i in points_list:\n",
    "        x.append(i.split(\" \")[0])\n",
    "        y.append(i.split(\" \")[1])\n",
    "    lon_point_list = list(map(float, x))\n",
    "    lat_point_list = list(map(float, y))\n",
    "    polygon_geom = Polygon(zip(lon_point_list, lat_point_list))\n",
    "    crs = {'init': 'epsg:4326'}\n",
    "    polygon = gpd.GeoDataFrame(index=[0], crs=crs, geometry=[polygon_geom]) \n",
    "    coord_lon = int(lon_point_list[-1])\n",
    "    coord_lat = int(lat_point_list[-1])\n",
    "    \n",
    "    m = folium.Map([coord_lat, coord_lon], zoom_start=4, tiles='cartodbpositron')\n",
    "    folium.GeoJson(polygon).add_to(m)\n",
    "    folium.LatLngPopup().add_to(m)\n",
    "    polygon_val = polygon._get_value(0,'geometry')\n",
    "    return m, polygon_val"
   ]
  },
  {
   "cell_type": "code",
   "execution_count": 22,
   "id": "183b7a54",
   "metadata": {},
   "outputs": [],
   "source": [
    "def geom_center():\n",
    "    cursor, conn = db_conn()\n",
    "    cursor.execute(\"SELECT avg(ST_X(geom)) as lon, avg(ST_Y(geom)) as lat FROM test;\")\n",
    "    result = cursor.fetchone() \n",
    "    m = folium.Map([result[1], result[0]], zoom_start=4, tiles='cartodbpositron')\n",
    "    folium.CircleMarker(location=[result[1], result[0]],\n",
    "                        radius=2,\n",
    "                        weight=5).add_to(m)\n",
    "    return m, result"
   ]
  },
  {
   "cell_type": "code",
   "execution_count": 41,
   "id": "cd6a44b0",
   "metadata": {},
   "outputs": [],
   "source": [
    "def client_request(query,eps):\n",
    "\n",
    "    if (\"select\" not in query) or (\"from\" not in query) or (\";\" not in query):\n",
    "        print(\"Please use a correct SQL query!\")\n",
    "        return\n",
    "\n",
    "    table = query.partition(\"from\")[2]\n",
    "    \n",
    "    #In case the user wants to filter the data for date or counte/state, create a new table with filtered data\n",
    "    if \"where\" in query:\n",
    "        query_list = query.partition(\"where\")\n",
    "        conditions = query_list[2]\n",
    "        table = query_list[0].partition(\"from\")[2]\n",
    "        \n",
    "        new_query = \"CREATE TABLE filtered_data AS SELECT * from \"+ table+\" where \"+conditions\n",
    "\n",
    "        cursor, conn = db_conn()\n",
    "        cursor.execute(\"DROP TABLE filtered_data;\")\n",
    "        cursor.execute(new_query)\n",
    "        conn.commit()\n",
    "        cursor.close()\n",
    "\n",
    "    #eps = 0.1\n",
    "\n",
    "    #Apply differencial privacy\n",
    "    \n",
    "    initial_points,states_list = get_initial_points(table)\n",
    "    grid_cells = create_grid(initial_points,len(initial_points),eps)\n",
    "    cell_counts = get_cell_counts(initial_points,grid_cells,eps)\n",
    "\n",
    "    polygons = get_polygons(cell_counts)\n",
    "    new_points = get_all_new_points(polygons)\n",
    "\n",
    "    create_new_table()\n",
    "    points_df = generate_df_for_new_table(new_points)\n",
    "    generate_csv_for_new_table(points_df)\n",
    "    insert_csv_into_new_table()\n",
    "\n",
    "    #dp.plot_points(initial_points,grid_cells,states_list)\n",
    "    #dp.plot_points(new_points,grid_cells,states_list)\n",
    "    \n",
    "    \n",
    "    #Check what function\n",
    "    if \"st_envelope\" in query.lower():\n",
    "        bounding_box_map, polygon = bounding_box()\n",
    "        print(polygon)\n",
    "        return bounding_box_map, polygon\n",
    "    elif \"st_centroid\" in query.lower():\n",
    "        point_map, center=geom_center()\n",
    "        print(center)\n",
    "        return point_map, center"
   ]
  },
  {
   "cell_type": "markdown",
   "id": "985f4eed",
   "metadata": {},
   "source": [
    "# Presentation"
   ]
  },
  {
   "cell_type": "markdown",
   "id": "dab800c1",
   "metadata": {},
   "source": [
    "Extracting the table from the user request"
   ]
  },
  {
   "cell_type": "code",
   "execution_count": 38,
   "id": "69969905",
   "metadata": {},
   "outputs": [
    {
     "name": "stderr",
     "output_type": "stream",
     "text": [
      "Using OS Login user [ingastrelnikova28_gmail_com] instead of requested user [ingastrelnikova28]\n"
     ]
    },
    {
     "name": "stdout",
     "output_type": "stream",
     "text": [
      "POLYGON ((-161.5286990901236 20.629662694022283, -161.5286990901236 69.65517410804746, -66.49990065626243 69.65517410804746, -66.49990065626243 20.629662694022283, -161.5286990901236 20.629662694022283))\n"
     ]
    },
    {
     "data": {
      "text/plain": [
       "(<function __main__.bounding_box()>,\n",
       " <shapely.geometry.polygon.Polygon at 0x7f95b1b909d0>)"
      ]
     },
     "execution_count": 38,
     "metadata": {},
     "output_type": "execute_result"
    }
   ],
   "source": [
    "bb, bb_val = client_request(\"select ST_AsText(ST_Envelope(ST_Collect(geom))) from mediumdata where state = 'California' or state = 'Texas';\",0.1)"
   ]
  },
  {
   "cell_type": "code",
   "execution_count": 39,
   "id": "86e4ef13",
   "metadata": {},
   "outputs": [
    {
     "name": "stderr",
     "output_type": "stream",
     "text": [
      "Using OS Login user [ingastrelnikova28_gmail_com] instead of requested user [ingastrelnikova28]\n"
     ]
    },
    {
     "name": "stdout",
     "output_type": "stream",
     "text": [
      "POLYGON ((-166.41728126401668 19.645674168881076, -166.41728126401668 69.47489185423402, -66.69284397573162 69.47489185423402, -66.69284397573162 19.645674168881076, -166.41728126401668 19.645674168881076))\n"
     ]
    },
    {
     "data": {
      "text/plain": [
       "(<function __main__.bounding_box()>,\n",
       " <shapely.geometry.polygon.Polygon at 0x7f95d94a6400>)"
      ]
     },
     "execution_count": 39,
     "metadata": {},
     "output_type": "execute_result"
    }
   ],
   "source": [
    "bb, bb_val = client_request(\"select ST_AsText(ST_Envelope(ST_Collect(geom))) from mediumdata where state = 'California' or state = 'Texas';\",0.1)"
   ]
  },
  {
   "cell_type": "code",
   "execution_count": 42,
   "id": "4b1db7fc",
   "metadata": {},
   "outputs": [
    {
     "name": "stderr",
     "output_type": "stream",
     "text": [
      "Using OS Login user [ingastrelnikova28_gmail_com] instead of requested user [ingastrelnikova28]\n"
     ]
    },
    {
     "name": "stdout",
     "output_type": "stream",
     "text": [
      "(-93.59382422990771, 38.76069031744346)\n"
     ]
    },
    {
     "data": {
      "text/plain": [
       "(<folium.folium.Map at 0x7f95aba9a280>,\n",
       " (-93.59382422990771, 38.76069031744346))"
      ]
     },
     "execution_count": 42,
     "metadata": {},
     "output_type": "execute_result"
    }
   ],
   "source": [
    "center, center_val = client_request(\"select ST_AsText(ST_Centroid(ST_Union(geom))) from mediumdata where state = 'California' or state = 'Texas';\",0.1)"
   ]
  },
  {
   "cell_type": "code",
   "execution_count": 43,
   "id": "dd9d8eb7",
   "metadata": {},
   "outputs": [
    {
     "name": "stderr",
     "output_type": "stream",
     "text": [
      "Using OS Login user [ingastrelnikova28_gmail_com] instead of requested user [ingastrelnikova28]\n"
     ]
    },
    {
     "name": "stdout",
     "output_type": "stream",
     "text": [
      "(-94.6510589585472, 39.40132193795814)\n"
     ]
    }
   ],
   "source": [
    "center, center_val = client_request(\"select ST_AsText(ST_Centroid(ST_Union(geom))) from mediumdata where state = 'California' or state = 'Texas';\",0.1)"
   ]
  },
  {
   "cell_type": "code",
   "execution_count": 45,
   "id": "35c75e4f",
   "metadata": {},
   "outputs": [
    {
     "data": {
      "text/html": [
       "<div style=\"width:100%;\"><div style=\"position:relative;width:100%;height:0;padding-bottom:60%;\"><span style=\"color:#565656\">Make this Notebook Trusted to load map: File -> Trust Notebook</span><iframe srcdoc=\"&lt;!DOCTYPE html&gt;\n",
       "&lt;head&gt;    \n",
       "    &lt;meta http-equiv=&quot;content-type&quot; content=&quot;text/html; charset=UTF-8&quot; /&gt;\n",
       "    \n",
       "        &lt;script&gt;\n",
       "            L_NO_TOUCH = false;\n",
       "            L_DISABLE_3D = false;\n",
       "        &lt;/script&gt;\n",
       "    \n",
       "    &lt;style&gt;html, body {width: 100%;height: 100%;margin: 0;padding: 0;}&lt;/style&gt;\n",
       "    &lt;style&gt;#map {position:absolute;top:0;bottom:0;right:0;left:0;}&lt;/style&gt;\n",
       "    &lt;script src=&quot;https://cdn.jsdelivr.net/npm/leaflet@1.6.0/dist/leaflet.js&quot;&gt;&lt;/script&gt;\n",
       "    &lt;script src=&quot;https://code.jquery.com/jquery-1.12.4.min.js&quot;&gt;&lt;/script&gt;\n",
       "    &lt;script src=&quot;https://maxcdn.bootstrapcdn.com/bootstrap/3.2.0/js/bootstrap.min.js&quot;&gt;&lt;/script&gt;\n",
       "    &lt;script src=&quot;https://cdnjs.cloudflare.com/ajax/libs/Leaflet.awesome-markers/2.0.2/leaflet.awesome-markers.js&quot;&gt;&lt;/script&gt;\n",
       "    &lt;link rel=&quot;stylesheet&quot; href=&quot;https://cdn.jsdelivr.net/npm/leaflet@1.6.0/dist/leaflet.css&quot;/&gt;\n",
       "    &lt;link rel=&quot;stylesheet&quot; href=&quot;https://maxcdn.bootstrapcdn.com/bootstrap/3.2.0/css/bootstrap.min.css&quot;/&gt;\n",
       "    &lt;link rel=&quot;stylesheet&quot; href=&quot;https://maxcdn.bootstrapcdn.com/bootstrap/3.2.0/css/bootstrap-theme.min.css&quot;/&gt;\n",
       "    &lt;link rel=&quot;stylesheet&quot; href=&quot;https://maxcdn.bootstrapcdn.com/font-awesome/4.6.3/css/font-awesome.min.css&quot;/&gt;\n",
       "    &lt;link rel=&quot;stylesheet&quot; href=&quot;https://cdnjs.cloudflare.com/ajax/libs/Leaflet.awesome-markers/2.0.2/leaflet.awesome-markers.css&quot;/&gt;\n",
       "    &lt;link rel=&quot;stylesheet&quot; href=&quot;https://cdn.jsdelivr.net/gh/python-visualization/folium/folium/templates/leaflet.awesome.rotate.min.css&quot;/&gt;\n",
       "    \n",
       "            &lt;meta name=&quot;viewport&quot; content=&quot;width=device-width,\n",
       "                initial-scale=1.0, maximum-scale=1.0, user-scalable=no&quot; /&gt;\n",
       "            &lt;style&gt;\n",
       "                #map_5c63dfb534d8647c329568b3c1f48f90 {\n",
       "                    position: relative;\n",
       "                    width: 100.0%;\n",
       "                    height: 100.0%;\n",
       "                    left: 0.0%;\n",
       "                    top: 0.0%;\n",
       "                }\n",
       "            &lt;/style&gt;\n",
       "        \n",
       "&lt;/head&gt;\n",
       "&lt;body&gt;    \n",
       "    \n",
       "            &lt;div class=&quot;folium-map&quot; id=&quot;map_5c63dfb534d8647c329568b3c1f48f90&quot; &gt;&lt;/div&gt;\n",
       "        \n",
       "&lt;/body&gt;\n",
       "&lt;script&gt;    \n",
       "    \n",
       "            var map_5c63dfb534d8647c329568b3c1f48f90 = L.map(\n",
       "                &quot;map_5c63dfb534d8647c329568b3c1f48f90&quot;,\n",
       "                {\n",
       "                    center: [39.40132193795814, -94.6510589585472],\n",
       "                    crs: L.CRS.EPSG3857,\n",
       "                    zoom: 4,\n",
       "                    zoomControl: true,\n",
       "                    preferCanvas: false,\n",
       "                }\n",
       "            );\n",
       "\n",
       "            \n",
       "\n",
       "        \n",
       "    \n",
       "            var tile_layer_5d3ab2e3351353c8e9351942838e9e03 = L.tileLayer(\n",
       "                &quot;https://cartodb-basemaps-{s}.global.ssl.fastly.net/light_all/{z}/{x}/{y}.png&quot;,\n",
       "                {&quot;attribution&quot;: &quot;\\u0026copy; \\u003ca href=\\&quot;http://www.openstreetmap.org/copyright\\&quot;\\u003eOpenStreetMap\\u003c/a\\u003e contributors \\u0026copy; \\u003ca href=\\&quot;http://cartodb.com/attributions\\&quot;\\u003eCartoDB\\u003c/a\\u003e, CartoDB \\u003ca href =\\&quot;http://cartodb.com/attributions\\&quot;\\u003eattributions\\u003c/a\\u003e&quot;, &quot;detectRetina&quot;: false, &quot;maxNativeZoom&quot;: 18, &quot;maxZoom&quot;: 18, &quot;minZoom&quot;: 0, &quot;noWrap&quot;: false, &quot;opacity&quot;: 1, &quot;subdomains&quot;: &quot;abc&quot;, &quot;tms&quot;: false}\n",
       "            ).addTo(map_5c63dfb534d8647c329568b3c1f48f90);\n",
       "        \n",
       "    \n",
       "            var circle_marker_cdf2c3395198bb05697d604d00870a45 = L.circleMarker(\n",
       "                [39.40132193795814, -94.6510589585472],\n",
       "                {&quot;bubblingMouseEvents&quot;: true, &quot;color&quot;: &quot;#3388ff&quot;, &quot;dashArray&quot;: null, &quot;dashOffset&quot;: null, &quot;fill&quot;: false, &quot;fillColor&quot;: &quot;#3388ff&quot;, &quot;fillOpacity&quot;: 0.2, &quot;fillRule&quot;: &quot;evenodd&quot;, &quot;lineCap&quot;: &quot;round&quot;, &quot;lineJoin&quot;: &quot;round&quot;, &quot;opacity&quot;: 1.0, &quot;radius&quot;: 2, &quot;stroke&quot;: true, &quot;weight&quot;: 5}\n",
       "            ).addTo(map_5c63dfb534d8647c329568b3c1f48f90);\n",
       "        \n",
       "&lt;/script&gt;\" style=\"position:absolute;width:100%;height:100%;left:0;top:0;border:none !important;\" allowfullscreen webkitallowfullscreen mozallowfullscreen></iframe></div></div>"
      ],
      "text/plain": [
       "<folium.folium.Map at 0x7f95abdda2b0>"
      ]
     },
     "execution_count": 45,
     "metadata": {},
     "output_type": "execute_result"
    }
   ],
   "source": [
    "center"
   ]
  },
  {
   "cell_type": "code",
   "execution_count": null,
   "id": "86a59f1a",
   "metadata": {},
   "outputs": [],
   "source": []
  }
 ],
 "metadata": {
  "kernelspec": {
   "display_name": "Python 3 (ipykernel)",
   "language": "python",
   "name": "python3"
  },
  "language_info": {
   "codemirror_mode": {
    "name": "ipython",
    "version": 3
   },
   "file_extension": ".py",
   "mimetype": "text/x-python",
   "name": "python",
   "nbconvert_exporter": "python",
   "pygments_lexer": "ipython3",
   "version": "3.9.12"
  }
 },
 "nbformat": 4,
 "nbformat_minor": 5
}
