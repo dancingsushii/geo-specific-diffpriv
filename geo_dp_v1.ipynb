{
 "cells": [
  {
   "cell_type": "code",
   "execution_count": 165,
   "id": "5c641619",
   "metadata": {},
   "outputs": [],
   "source": [
    "import geopandas as gpd\n",
    "from shapely.geometry import Point\n",
    "import psycopg2\n",
    "from shapely.ops import polygonize\n",
    "import fiona\n",
    "import matplotlib.pyplot as plt\n",
    "import shapely\n",
    "import numpy as np\n",
    "import pandas as pd"
   ]
  },
  {
   "cell_type": "code",
   "execution_count": 177,
   "id": "95ffaf3e",
   "metadata": {},
   "outputs": [],
   "source": [
    "import pydp as dp\n",
    "from pydp.algorithms.laplacian import BoundedMean"
   ]
  },
  {
   "cell_type": "code",
   "execution_count": null,
   "id": "7e2e9649",
   "metadata": {},
   "outputs": [],
   "source": []
  },
  {
   "cell_type": "code",
   "execution_count": 2,
   "id": "f772b235",
   "metadata": {},
   "outputs": [],
   "source": [
    "def db_conn():\n",
    "    \n",
    "    conn = psycopg2.connect(\n",
    "        host=\"34.159.36.105\",\n",
    "        port =\"5432\",\n",
    "        database=\"geodp\",\n",
    "        user=\"postgres\", \n",
    "        password='postgres')\n",
    "    cur = conn.cursor()\n",
    "\n",
    "    return cur, conn"
   ]
  },
  {
   "cell_type": "code",
   "execution_count": null,
   "id": "4f9e5614",
   "metadata": {},
   "outputs": [],
   "source": []
  },
  {
   "cell_type": "code",
   "execution_count": 3,
   "id": "26404ab6",
   "metadata": {},
   "outputs": [],
   "source": [
    "def f():\n",
    "    cursor, conn = db_conn()\n",
    "    cursor.execute(\"SELECT st_x(geom), st_y(geom) FROM smalldata;\")\n",
    "    rows = cursor.fetchall()\n",
    "    cursor.close()\n",
    "\n",
    "    result = []\n",
    "    for index in range(len(rows)):\n",
    "        result.append([\n",
    "            rows[index][0],\n",
    "            rows[index][1]\n",
    "            \n",
    "        ])\n",
    "\n",
    "    return result"
   ]
  },
  {
   "cell_type": "code",
   "execution_count": null,
   "id": "21f24bcf",
   "metadata": {},
   "outputs": [],
   "source": []
  },
  {
   "cell_type": "code",
   "execution_count": 4,
   "id": "eb2dfd85",
   "metadata": {},
   "outputs": [],
   "source": [
    "l = f()\n",
    "x = []\n",
    "y = []"
   ]
  },
  {
   "cell_type": "code",
   "execution_count": 5,
   "id": "80d6d006",
   "metadata": {},
   "outputs": [],
   "source": [
    "for i in l:\n",
    "    x.append(i[0])\n",
    "    y.append(i[1])"
   ]
  },
  {
   "cell_type": "code",
   "execution_count": 6,
   "id": "1832e005",
   "metadata": {},
   "outputs": [
    {
     "name": "stdout",
     "output_type": "stream",
     "text": [
      "            x          y                     geometry\n",
      "0 -117.761091  33.702979  POINT (-117.76109 33.70298)\n",
      "1 -118.217049  34.358922  POINT (-118.21705 34.35892)\n"
     ]
    }
   ],
   "source": [
    "\n",
    "points = gpd.GeoDataFrame({\"x\":x,\"y\":y})\n",
    "points['geometry'] = points.apply(lambda p: Point(p.x, p.y), axis=1)\n",
    "print(points.head(2))"
   ]
  },
  {
   "cell_type": "code",
   "execution_count": null,
   "id": "801772ec",
   "metadata": {},
   "outputs": [],
   "source": [
    "hlines = [((x1, yi), (x2, yi)) for x1, x2 in zip(x[:-1], x[1:]) for yi in y]\n",
    "vlines = [((xi, y1), (xi, y2)) for y1, y2 in zip(y[:-1], y[1:]) for xi in x]\n",
    "\n",
    "grids = list(polygonize(MultiLineString(hlines + vlines)))"
   ]
  },
  {
   "cell_type": "code",
   "execution_count": null,
   "id": "e7fe1f9c",
   "metadata": {},
   "outputs": [],
   "source": []
  },
  {
   "cell_type": "code",
   "execution_count": 7,
   "id": "6cc5aa4b",
   "metadata": {},
   "outputs": [
    {
     "ename": "NameError",
     "evalue": "name 'gridx' is not defined",
     "output_type": "error",
     "traceback": [
      "\u001b[0;31m---------------------------------------------------------------------------\u001b[0m",
      "\u001b[0;31mNameError\u001b[0m                                 Traceback (most recent call last)",
      "Input \u001b[0;32mIn [7]\u001b[0m, in \u001b[0;36m<cell line: 1>\u001b[0;34m()\u001b[0m\n\u001b[0;32m----> 1\u001b[0m hlines \u001b[38;5;241m=\u001b[39m [((x1, yi), (x2, yi)) \u001b[38;5;28;01mfor\u001b[39;00m x1, x2 \u001b[38;5;129;01min\u001b[39;00m \u001b[38;5;28mlist\u001b[39m(\u001b[38;5;28mzip\u001b[39m(\u001b[43mgridx\u001b[49m[:\u001b[38;5;241m-\u001b[39m\u001b[38;5;241m1\u001b[39m], gridx[\u001b[38;5;241m1\u001b[39m:])) \u001b[38;5;28;01mfor\u001b[39;00m yi \u001b[38;5;129;01min\u001b[39;00m gridy]\n\u001b[1;32m      2\u001b[0m vlines \u001b[38;5;241m=\u001b[39m [((xi, y1), (xi, y2)) \u001b[38;5;28;01mfor\u001b[39;00m y1, y2 \u001b[38;5;129;01min\u001b[39;00m \u001b[38;5;28mzip\u001b[39m(gridy[:\u001b[38;5;241m-\u001b[39m\u001b[38;5;241m1\u001b[39m], gridy[\u001b[38;5;241m1\u001b[39m:]) \u001b[38;5;28;01mfor\u001b[39;00m xi \u001b[38;5;129;01min\u001b[39;00m gridx]\n\u001b[1;32m      3\u001b[0m polys \u001b[38;5;241m=\u001b[39m \u001b[38;5;28mlist\u001b[39m(polygonize(MultiLineString(hlines \u001b[38;5;241m+\u001b[39m vlines)))\n",
      "\u001b[0;31mNameError\u001b[0m: name 'gridx' is not defined"
     ]
    }
   ],
   "source": [
    "hlines = [((x1, yi), (x2, yi)) for x1, x2 in list(zip(gridx[:-1], gridx[1:])) for yi in gridy]\n",
    "vlines = [((xi, y1), (xi, y2)) for y1, y2 in zip(gridy[:-1], gridy[1:]) for xi in gridx]\n",
    "polys = list(polygonize(MultiLineString(hlines + vlines)))\n",
    "id = [i for i in range(len(grids))]\n",
    "grid = gpd.GeoDataFrame({\"id\":id,\"geometry\":polys})\n",
    "print(grid.head(2))"
   ]
  },
  {
   "cell_type": "code",
   "execution_count": 61,
   "id": "40d4de50",
   "metadata": {},
   "outputs": [
    {
     "ename": "KeyboardInterrupt",
     "evalue": "",
     "output_type": "error",
     "traceback": [
      "\u001b[0;31m---------------------------------------------------------------------------\u001b[0m",
      "\u001b[0;31mKeyboardInterrupt\u001b[0m                         Traceback (most recent call last)",
      "Input \u001b[0;32mIn [61]\u001b[0m, in \u001b[0;36m<cell line: 15>\u001b[0;34m()\u001b[0m\n\u001b[1;32m     15\u001b[0m \u001b[38;5;28;01mfor\u001b[39;00m x \u001b[38;5;129;01min\u001b[39;00m cols[:\u001b[38;5;241m-\u001b[39m\u001b[38;5;241m1\u001b[39m]:\n\u001b[1;32m     16\u001b[0m     \u001b[38;5;28;01mfor\u001b[39;00m y \u001b[38;5;129;01min\u001b[39;00m rows[:\u001b[38;5;241m-\u001b[39m\u001b[38;5;241m1\u001b[39m]:\n\u001b[0;32m---> 17\u001b[0m         polygons\u001b[38;5;241m.\u001b[39mappend(\u001b[43mPolygon\u001b[49m\u001b[43m(\u001b[49m\u001b[43m[\u001b[49m\u001b[43m(\u001b[49m\u001b[43mx\u001b[49m\u001b[43m,\u001b[49m\u001b[43my\u001b[49m\u001b[43m)\u001b[49m\u001b[43m,\u001b[49m\u001b[43m \u001b[49m\u001b[43m(\u001b[49m\u001b[43mx\u001b[49m\u001b[38;5;241;43m+\u001b[39;49m\u001b[43mwide\u001b[49m\u001b[43m,\u001b[49m\u001b[43m \u001b[49m\u001b[43my\u001b[49m\u001b[43m)\u001b[49m\u001b[43m,\u001b[49m\u001b[43m \u001b[49m\u001b[43m(\u001b[49m\u001b[43mx\u001b[49m\u001b[38;5;241;43m+\u001b[39;49m\u001b[43mwide\u001b[49m\u001b[43m,\u001b[49m\u001b[43m \u001b[49m\u001b[43my\u001b[49m\u001b[38;5;241;43m+\u001b[39;49m\u001b[43mlength\u001b[49m\u001b[43m)\u001b[49m\u001b[43m,\u001b[49m\u001b[43m \u001b[49m\u001b[43m(\u001b[49m\u001b[43mx\u001b[49m\u001b[43m,\u001b[49m\u001b[43m \u001b[49m\u001b[43my\u001b[49m\u001b[38;5;241;43m+\u001b[39;49m\u001b[43mlength\u001b[49m\u001b[43m)\u001b[49m\u001b[43m]\u001b[49m\u001b[43m)\u001b[49m)\n\u001b[1;32m     19\u001b[0m grid \u001b[38;5;241m=\u001b[39m gpd\u001b[38;5;241m.\u001b[39mGeoDataFrame({\u001b[38;5;124m'\u001b[39m\u001b[38;5;124mgeometry\u001b[39m\u001b[38;5;124m'\u001b[39m:polygons})\n\u001b[1;32m     20\u001b[0m grid\u001b[38;5;241m.\u001b[39mto_file(\u001b[38;5;124m\"\u001b[39m\u001b[38;5;124mgrid.shp\u001b[39m\u001b[38;5;124m\"\u001b[39m)\n",
      "File \u001b[0;32m/opt/anaconda3/lib/python3.8/site-packages/shapely/geometry/polygon.py:264\u001b[0m, in \u001b[0;36mPolygon.__init__\u001b[0;34m(self, shell, holes)\u001b[0m\n\u001b[1;32m    262\u001b[0m \u001b[38;5;28;01mif\u001b[39;00m ret \u001b[38;5;129;01mis\u001b[39;00m \u001b[38;5;129;01mnot\u001b[39;00m \u001b[38;5;28;01mNone\u001b[39;00m:\n\u001b[1;32m    263\u001b[0m     geom, n \u001b[38;5;241m=\u001b[39m ret\n\u001b[0;32m--> 264\u001b[0m     \u001b[38;5;28;43mself\u001b[39;49m\u001b[38;5;241;43m.\u001b[39;49m\u001b[43m_set_geom\u001b[49m\u001b[43m(\u001b[49m\u001b[43mgeom\u001b[49m\u001b[43m)\u001b[49m\n\u001b[1;32m    265\u001b[0m     \u001b[38;5;28mself\u001b[39m\u001b[38;5;241m.\u001b[39m_ndim \u001b[38;5;241m=\u001b[39m n\n\u001b[1;32m    266\u001b[0m \u001b[38;5;28;01melse\u001b[39;00m:\n",
      "File \u001b[0;32m/opt/anaconda3/lib/python3.8/site-packages/shapely/geometry/base.py:241\u001b[0m, in \u001b[0;36mBaseGeometry._set_geom\u001b[0;34m(self, val)\u001b[0m\n\u001b[1;32m    240\u001b[0m \u001b[38;5;28;01mdef\u001b[39;00m \u001b[38;5;21m_set_geom\u001b[39m(\u001b[38;5;28mself\u001b[39m, val):\n\u001b[0;32m--> 241\u001b[0m     \u001b[38;5;28;43mself\u001b[39;49m\u001b[38;5;241;43m.\u001b[39;49m\u001b[43m_empty\u001b[49m\u001b[43m(\u001b[49m\u001b[43m)\u001b[49m\n\u001b[1;32m    242\u001b[0m     \u001b[38;5;28mself\u001b[39m\u001b[38;5;241m.\u001b[39m_is_empty \u001b[38;5;241m=\u001b[39m val \u001b[38;5;129;01min\u001b[39;00m [EMPTY, \u001b[38;5;28;01mNone\u001b[39;00m]\n\u001b[1;32m    243\u001b[0m     \u001b[38;5;28mself\u001b[39m\u001b[38;5;241m.\u001b[39m__geom__ \u001b[38;5;241m=\u001b[39m val\n",
      "File \u001b[0;32m/opt/anaconda3/lib/python3.8/site-packages/shapely/geometry/base.py:200\u001b[0m, in \u001b[0;36mBaseGeometry._empty\u001b[0;34m(self, val)\u001b[0m\n\u001b[1;32m    197\u001b[0m         log\u001b[38;5;241m.\u001b[39mexception(\u001b[38;5;124m\"\u001b[39m\u001b[38;5;124mFailed to delete GEOS geom\u001b[39m\u001b[38;5;124m\"\u001b[39m)\n\u001b[1;32m    199\u001b[0m \u001b[38;5;28mself\u001b[39m\u001b[38;5;241m.\u001b[39m_is_empty \u001b[38;5;241m=\u001b[39m \u001b[38;5;28;01mTrue\u001b[39;00m\n\u001b[0;32m--> 200\u001b[0m \u001b[38;5;28mself\u001b[39m\u001b[38;5;241m.\u001b[39m__geom__ \u001b[38;5;241m=\u001b[39m val\n",
      "File \u001b[0;32m/opt/anaconda3/lib/python3.8/site-packages/shapely/geometry/base.py:249\u001b[0m, in \u001b[0;36mBaseGeometry.__setattr__\u001b[0;34m(self, name, value)\u001b[0m\n\u001b[1;32m    245\u001b[0m \u001b[38;5;28;01mdef\u001b[39;00m \u001b[38;5;21m__setattr__\u001b[39m(\u001b[38;5;28mself\u001b[39m, name, value):\n\u001b[1;32m    246\u001b[0m     \u001b[38;5;66;03m# first try regular attribute access via __getattribute__, so that\u001b[39;00m\n\u001b[1;32m    247\u001b[0m     \u001b[38;5;66;03m# our own (existing) attributes don't raise a warning\u001b[39;00m\n\u001b[1;32m    248\u001b[0m     \u001b[38;5;28;01mtry\u001b[39;00m:\n\u001b[0;32m--> 249\u001b[0m         \u001b[38;5;28;43mobject\u001b[39;49m\u001b[38;5;241;43m.\u001b[39;49m\u001b[38;5;21;43m__getattribute__\u001b[39;49m\u001b[43m(\u001b[49m\u001b[38;5;28;43mself\u001b[39;49m\u001b[43m,\u001b[49m\u001b[43m \u001b[49m\u001b[43mname\u001b[49m\u001b[43m)\u001b[49m\n\u001b[1;32m    250\u001b[0m         \u001b[38;5;28msuper\u001b[39m()\u001b[38;5;241m.\u001b[39m\u001b[38;5;21m__setattr__\u001b[39m(name, value)\n\u001b[1;32m    251\u001b[0m         \u001b[38;5;28;01mreturn\u001b[39;00m\n",
      "\u001b[0;31mKeyboardInterrupt\u001b[0m: "
     ]
    }
   ],
   "source": [
    "import geopandas as gpd\n",
    "from shapely.geometry import Polygon\n",
    "import numpy as np\n",
    "#points = gpd.read_file('points.shp')\n",
    "\n",
    "xmin, ymin, xmax, ymax = points.total_bounds\n",
    "\n",
    "length = 1000\n",
    "wide = 1200\n",
    "\n",
    "cols = list(np.arange(xmin, xmax + wide, wide))\n",
    "rows = list(np.arange(ymin, ymax + length, length))\n",
    "\n",
    "polygons = []\n",
    "for x in cols[:-1]:\n",
    "    for y in rows[:-1]:\n",
    "        polygons.append(Polygon([(x,y), (x+wide, y), (x+wide, y+length), (x, y+length)]))\n",
    "\n",
    "grid = gpd.GeoDataFrame({'geometry':polygons})\n",
    "grid.to_file(\"grid.shp\")"
   ]
  },
  {
   "cell_type": "code",
   "execution_count": null,
   "id": "3491c25d",
   "metadata": {},
   "outputs": [],
   "source": [
    "grid.plot();"
   ]
  },
  {
   "cell_type": "code",
   "execution_count": 11,
   "id": "66d8c8d7",
   "metadata": {},
   "outputs": [],
   "source": [
    "p = gpd.read_file('grid.shp')"
   ]
  },
  {
   "cell_type": "code",
   "execution_count": 19,
   "id": "2fc71c6f",
   "metadata": {},
   "outputs": [
    {
     "data": {
      "text/html": [
       "<div>\n",
       "<style scoped>\n",
       "    .dataframe tbody tr th:only-of-type {\n",
       "        vertical-align: middle;\n",
       "    }\n",
       "\n",
       "    .dataframe tbody tr th {\n",
       "        vertical-align: top;\n",
       "    }\n",
       "\n",
       "    .dataframe thead th {\n",
       "        text-align: right;\n",
       "    }\n",
       "</style>\n",
       "<table border=\"1\" class=\"dataframe\">\n",
       "  <thead>\n",
       "    <tr style=\"text-align: right;\">\n",
       "      <th></th>\n",
       "      <th>geometry</th>\n",
       "    </tr>\n",
       "  </thead>\n",
       "  <tbody>\n",
       "    <tr>\n",
       "      <th>0</th>\n",
       "      <td>POLYGON ((-123.897 33.034, 1076.103 33.034, 10...</td>\n",
       "    </tr>\n",
       "  </tbody>\n",
       "</table>\n",
       "</div>"
      ],
      "text/plain": [
       "                                            geometry\n",
       "0  POLYGON ((-123.897 33.034, 1076.103 33.034, 10..."
      ]
     },
     "execution_count": 19,
     "metadata": {},
     "output_type": "execute_result"
    }
   ],
   "source": [
    "grid"
   ]
  },
  {
   "cell_type": "code",
   "execution_count": 23,
   "id": "72cf9710",
   "metadata": {},
   "outputs": [
    {
     "ename": "AttributeError",
     "evalue": "'str' object has no attribute 'shape'",
     "output_type": "error",
     "traceback": [
      "\u001b[0;31m---------------------------------------------------------------------------\u001b[0m",
      "\u001b[0;31mAttributeError\u001b[0m                            Traceback (most recent call last)",
      "Input \u001b[0;32mIn [23]\u001b[0m, in \u001b[0;36m<cell line: 2>\u001b[0;34m()\u001b[0m\n\u001b[1;32m      1\u001b[0m plt\u001b[38;5;241m.\u001b[39mfigure()\n\u001b[1;32m      2\u001b[0m \u001b[38;5;28;01mfor\u001b[39;00m shape \u001b[38;5;129;01min\u001b[39;00m p:\n\u001b[0;32m----> 3\u001b[0m     x \u001b[38;5;241m=\u001b[39m [i[\u001b[38;5;241m0\u001b[39m] \u001b[38;5;28;01mfor\u001b[39;00m i \u001b[38;5;129;01min\u001b[39;00m \u001b[43mshape\u001b[49m\u001b[38;5;241;43m.\u001b[39;49m\u001b[43mshape\u001b[49m\u001b[38;5;241m.\u001b[39mpoints[:]]\n\u001b[1;32m      4\u001b[0m     y \u001b[38;5;241m=\u001b[39m [i[\u001b[38;5;241m1\u001b[39m] \u001b[38;5;28;01mfor\u001b[39;00m i \u001b[38;5;129;01min\u001b[39;00m shape\u001b[38;5;241m.\u001b[39mshape\u001b[38;5;241m.\u001b[39mpoints[:]]\n\u001b[1;32m      5\u001b[0m     plt\u001b[38;5;241m.\u001b[39mplot(x,y)\n",
      "\u001b[0;31mAttributeError\u001b[0m: 'str' object has no attribute 'shape'"
     ]
    },
    {
     "data": {
      "text/plain": [
       "<Figure size 432x288 with 0 Axes>"
      ]
     },
     "metadata": {},
     "output_type": "display_data"
    }
   ],
   "source": [
    "plt.figure()\n",
    "for shape in p:\n",
    "    x = [i[0] for i in shape.shape.points[:]]\n",
    "    y = [i[1] for i in shape.shape.points[:]]\n",
    "    plt.plot(x,y)\n",
    "plt.show()"
   ]
  },
  {
   "cell_type": "code",
   "execution_count": 47,
   "id": "a6703a72",
   "metadata": {},
   "outputs": [],
   "source": [
    "states = gpd.read_file('cb_2018_us_state_500k.shp')\n",
    "#grid = gpd.read_file('grid.shp')"
   ]
  },
  {
   "cell_type": "code",
   "execution_count": 39,
   "id": "e6ebb697",
   "metadata": {},
   "outputs": [
    {
     "data": {
      "image/png": "[encoded data removed]",
      "text/plain": [
       "<Figure size 432x288 with 1 Axes>"
      ]
     },
     "metadata": {
      "needs_background": "light"
     },
     "output_type": "display_data"
    }
   ],
   "source": [
    "base = states.plot(color='white', edgecolor='black')\n",
    "points.plot(ax=base, marker='o', color='red', markersize=5);"
   ]
  },
  {
   "cell_type": "code",
   "execution_count": 53,
   "id": "0dec9427",
   "metadata": {},
   "outputs": [
    {
     "data": {
      "image/png": "[encoded data removed]",
      "text/plain": [
       "<Figure size 432x288 with 1 Axes>"
      ]
     },
     "metadata": {
      "needs_background": "light"
     },
     "output_type": "display_data"
    }
   ],
   "source": [
    "ax = states.plot(color='white', edgecolor='black')\n",
    "plt.xlim([-130, -110])\n",
    "plt.ylim([30, 50])\n",
    "points.plot(ax=ax, marker='o', color='red', markersize=5);\n",
    "\n"
   ]
  },
  {
   "cell_type": "code",
   "execution_count": 69,
   "id": "291efd29",
   "metadata": {},
   "outputs": [],
   "source": [
    "points_unique = points.drop_duplicates()"
   ]
  },
  {
   "cell_type": "code",
   "execution_count": 71,
   "id": "0d220175",
   "metadata": {},
   "outputs": [
    {
     "data": {
      "text/plain": [
       "x           58\n",
       "y           58\n",
       "geometry    58\n",
       "dtype: int64"
      ]
     },
     "execution_count": 71,
     "metadata": {},
     "output_type": "execute_result"
    }
   ],
   "source": [
    "points_unique.count()"
   ]
  },
  {
   "cell_type": "code",
   "execution_count": 178,
   "id": "2a03a9a5",
   "metadata": {},
   "outputs": [],
   "source": [
    "xmin, ymin, xmax, ymax= points_unique.total_bounds\n",
    "# how many cells across and down\n",
    "n_cells=30\n",
    "cell_size = 0.7616#(xmax-xmin)/n_cells\n",
    "# projection of the grid\n",
    "crs = \"+proj=sinu +lon_0=0 +x_0=0 +y_0=0 +a=6371007.181 +b=6371007.181 +units=m +no_defs\"\n",
    "# create the cells in a loop\n",
    "grid_cells = []\n",
    "for x0 in np.arange(xmin, xmax+cell_size, cell_size ):\n",
    "    for y0 in np.arange(ymin, ymax+cell_size, cell_size):\n",
    "        # bounds\n",
    "        x1 = x0-cell_size\n",
    "        y1 = y0+cell_size\n",
    "        grid_cells.append( shapely.geometry.box(x0, y0, x1, y1)  )\n",
    "cell = gpd.GeoDataFrame(grid_cells, columns=['geometry'], \n",
    "                                 crs=crs)"
   ]
  },
  {
   "cell_type": "code",
   "execution_count": 135,
   "id": "50d35a5d",
   "metadata": {},
   "outputs": [],
   "source": [
    "p = points_unique[points_unique['y'].astype(str).str.contains('41.743135')]"
   ]
  },
  {
   "cell_type": "code",
   "execution_count": 185,
   "id": "30e9ba48",
   "metadata": {},
   "outputs": [
    {
     "data": {
      "text/plain": [
       "(-124.3238569466887, -114.93876779507178, 32.59869216257996, 42.17858502717501)"
      ]
     },
     "execution_count": 185,
     "metadata": {},
     "output_type": "execute_result"
    },
    {
     "data": {
      "image/png": "[encoded data removed]",
      "text/plain": [
       "<Figure size 864x576 with 1 Axes>"
      ]
     },
     "metadata": {
      "needs_background": "light"
     },
     "output_type": "display_data"
    }
   ],
   "source": [
    "ax = points.plot(markersize=.1, figsize=(12, 8), cmap='jet')\n",
    "plt.autoscale(False)\n",
    "cell.plot(ax=ax, facecolor=\"none\", edgecolor='grey')\n",
    "ax.axis(\"off\")\n"
   ]
  },
  {
   "cell_type": "code",
   "execution_count": 42,
   "id": "e482c390",
   "metadata": {},
   "outputs": [
    {
     "name": "stderr",
     "output_type": "stream",
     "text": [
      "/opt/anaconda3/lib/python3.8/site-packages/IPython/core/interactiveshell.py:3337: FutureWarning: The `op` parameter is deprecated and will be removed in a future release. Please use the `predicate` parameter instead.\n",
      "  if await self.run_code(code, result, async_=asy):\n",
      "/var/folders/tb/90g6hkm55t9ghflwhwpzcf400000gn/T/ipykernel_33909/637817184.py:1: UserWarning: CRS mismatch between the CRS of left geometries and the CRS of right geometries.\n",
      "Use `to_crs()` to reproject one of the input geometries to match the CRS of the other.\n",
      "\n",
      "Left CRS: None\n",
      "Right CRS: +proj=sinu +lon_0=0 +x_0=0 +y_0=0 +a=6371007.181 + ...\n",
      "\n",
      "  merged = gpd.sjoin(points, cell, how='left', op='within')\n"
     ]
    }
   ],
   "source": [
    "merged = gpd.sjoin(points, cell, how='left', op='within')"
   ]
  },
  {
   "cell_type": "code",
   "execution_count": 13,
   "id": "377cdf20",
   "metadata": {},
   "outputs": [
    {
     "data": {
      "text/html": [
       "<div>\n",
       "<style scoped>\n",
       "    .dataframe tbody tr th:only-of-type {\n",
       "        vertical-align: middle;\n",
       "    }\n",
       "\n",
       "    .dataframe tbody tr th {\n",
       "        vertical-align: top;\n",
       "    }\n",
       "\n",
       "    .dataframe thead th {\n",
       "        text-align: right;\n",
       "    }\n",
       "</style>\n",
       "<table border=\"1\" class=\"dataframe\">\n",
       "  <thead>\n",
       "    <tr style=\"text-align: right;\">\n",
       "      <th></th>\n",
       "      <th>x</th>\n",
       "      <th>y</th>\n",
       "      <th>geometry</th>\n",
       "      <th>index_right</th>\n",
       "    </tr>\n",
       "  </thead>\n",
       "  <tbody>\n",
       "    <tr>\n",
       "      <th>0</th>\n",
       "      <td>-117.761091</td>\n",
       "      <td>33.702979</td>\n",
       "      <td>POINT (-117.76109 33.70298)</td>\n",
       "      <td>706.0</td>\n",
       "    </tr>\n",
       "    <tr>\n",
       "      <th>1</th>\n",
       "      <td>-118.217049</td>\n",
       "      <td>34.358922</td>\n",
       "      <td>POINT (-118.21705 34.35892)</td>\n",
       "      <td>644.0</td>\n",
       "    </tr>\n",
       "    <tr>\n",
       "      <th>2</th>\n",
       "      <td>-117.761091</td>\n",
       "      <td>33.702979</td>\n",
       "      <td>POINT (-117.76109 33.70298)</td>\n",
       "      <td>706.0</td>\n",
       "    </tr>\n",
       "    <tr>\n",
       "      <th>3</th>\n",
       "      <td>-118.217049</td>\n",
       "      <td>34.358922</td>\n",
       "      <td>POINT (-118.21705 34.35892)</td>\n",
       "      <td>644.0</td>\n",
       "    </tr>\n",
       "    <tr>\n",
       "      <th>4</th>\n",
       "      <td>-117.761091</td>\n",
       "      <td>33.702979</td>\n",
       "      <td>POINT (-117.76109 33.70298)</td>\n",
       "      <td>706.0</td>\n",
       "    </tr>\n",
       "  </tbody>\n",
       "</table>\n",
       "</div>"
      ],
      "text/plain": [
       "            x          y                     geometry  index_right\n",
       "0 -117.761091  33.702979  POINT (-117.76109 33.70298)        706.0\n",
       "1 -118.217049  34.358922  POINT (-118.21705 34.35892)        644.0\n",
       "2 -117.761091  33.702979  POINT (-117.76109 33.70298)        706.0\n",
       "3 -118.217049  34.358922  POINT (-118.21705 34.35892)        644.0\n",
       "4 -117.761091  33.702979  POINT (-117.76109 33.70298)        706.0"
      ]
     },
     "execution_count": 13,
     "metadata": {},
     "output_type": "execute_result"
    }
   ],
   "source": [
    "merged.head()"
   ]
  },
  {
   "cell_type": "code",
   "execution_count": 46,
   "id": "139e4b39",
   "metadata": {},
   "outputs": [],
   "source": [
    "merged['n_fires']=1"
   ]
  },
  {
   "cell_type": "code",
   "execution_count": 47,
   "id": "08f6054c",
   "metadata": {},
   "outputs": [
    {
     "data": {
      "text/html": [
       "<div>\n",
       "<style scoped>\n",
       "    .dataframe tbody tr th:only-of-type {\n",
       "        vertical-align: middle;\n",
       "    }\n",
       "\n",
       "    .dataframe tbody tr th {\n",
       "        vertical-align: top;\n",
       "    }\n",
       "\n",
       "    .dataframe thead th {\n",
       "        text-align: right;\n",
       "    }\n",
       "</style>\n",
       "<table border=\"1\" class=\"dataframe\">\n",
       "  <thead>\n",
       "    <tr style=\"text-align: right;\">\n",
       "      <th></th>\n",
       "      <th>x</th>\n",
       "      <th>y</th>\n",
       "      <th>geometry</th>\n",
       "      <th>index_right</th>\n",
       "      <th>n_fires</th>\n",
       "    </tr>\n",
       "  </thead>\n",
       "  <tbody>\n",
       "    <tr>\n",
       "      <th>0</th>\n",
       "      <td>-117.761091</td>\n",
       "      <td>33.702979</td>\n",
       "      <td>POINT (-117.76109 33.70298)</td>\n",
       "      <td>706.0</td>\n",
       "      <td>1</td>\n",
       "    </tr>\n",
       "    <tr>\n",
       "      <th>1</th>\n",
       "      <td>-118.217049</td>\n",
       "      <td>34.358922</td>\n",
       "      <td>POINT (-118.21705 34.35892)</td>\n",
       "      <td>644.0</td>\n",
       "      <td>1</td>\n",
       "    </tr>\n",
       "    <tr>\n",
       "      <th>2</th>\n",
       "      <td>-117.761091</td>\n",
       "      <td>33.702979</td>\n",
       "      <td>POINT (-117.76109 33.70298)</td>\n",
       "      <td>706.0</td>\n",
       "      <td>1</td>\n",
       "    </tr>\n",
       "    <tr>\n",
       "      <th>3</th>\n",
       "      <td>-118.217049</td>\n",
       "      <td>34.358922</td>\n",
       "      <td>POINT (-118.21705 34.35892)</td>\n",
       "      <td>644.0</td>\n",
       "      <td>1</td>\n",
       "    </tr>\n",
       "    <tr>\n",
       "      <th>4</th>\n",
       "      <td>-117.761091</td>\n",
       "      <td>33.702979</td>\n",
       "      <td>POINT (-117.76109 33.70298)</td>\n",
       "      <td>706.0</td>\n",
       "      <td>1</td>\n",
       "    </tr>\n",
       "    <tr>\n",
       "      <th>...</th>\n",
       "      <td>...</td>\n",
       "      <td>...</td>\n",
       "      <td>...</td>\n",
       "      <td>...</td>\n",
       "      <td>...</td>\n",
       "    </tr>\n",
       "    <tr>\n",
       "      <th>15221</th>\n",
       "      <td>-118.800497</td>\n",
       "      <td>36.220168</td>\n",
       "      <td>POINT (-118.80050 36.22017)</td>\n",
       "      <td>587.0</td>\n",
       "      <td>1</td>\n",
       "    </tr>\n",
       "    <tr>\n",
       "      <th>15222</th>\n",
       "      <td>-119.954768</td>\n",
       "      <td>38.027594</td>\n",
       "      <td>POINT (-119.95477 38.02759)</td>\n",
       "      <td>465.0</td>\n",
       "      <td>1</td>\n",
       "    </tr>\n",
       "    <tr>\n",
       "      <th>15223</th>\n",
       "      <td>-119.078240</td>\n",
       "      <td>34.471595</td>\n",
       "      <td>POINT (-119.07824 34.47160)</td>\n",
       "      <td>549.0</td>\n",
       "      <td>1</td>\n",
       "    </tr>\n",
       "    <tr>\n",
       "      <th>15224</th>\n",
       "      <td>-121.901583</td>\n",
       "      <td>38.686610</td>\n",
       "      <td>POINT (-121.90158 38.68661)</td>\n",
       "      <td>275.0</td>\n",
       "      <td>1</td>\n",
       "    </tr>\n",
       "    <tr>\n",
       "      <th>15225</th>\n",
       "      <td>-121.351276</td>\n",
       "      <td>39.269014</td>\n",
       "      <td>POINT (-121.35128 39.26901)</td>\n",
       "      <td>309.0</td>\n",
       "      <td>1</td>\n",
       "    </tr>\n",
       "  </tbody>\n",
       "</table>\n",
       "<p>15226 rows × 5 columns</p>\n",
       "</div>"
      ],
      "text/plain": [
       "                x          y                     geometry  index_right  \\\n",
       "0     -117.761091  33.702979  POINT (-117.76109 33.70298)        706.0   \n",
       "1     -118.217049  34.358922  POINT (-118.21705 34.35892)        644.0   \n",
       "2     -117.761091  33.702979  POINT (-117.76109 33.70298)        706.0   \n",
       "3     -118.217049  34.358922  POINT (-118.21705 34.35892)        644.0   \n",
       "4     -117.761091  33.702979  POINT (-117.76109 33.70298)        706.0   \n",
       "...           ...        ...                          ...          ...   \n",
       "15221 -118.800497  36.220168  POINT (-118.80050 36.22017)        587.0   \n",
       "15222 -119.954768  38.027594  POINT (-119.95477 38.02759)        465.0   \n",
       "15223 -119.078240  34.471595  POINT (-119.07824 34.47160)        549.0   \n",
       "15224 -121.901583  38.686610  POINT (-121.90158 38.68661)        275.0   \n",
       "15225 -121.351276  39.269014  POINT (-121.35128 39.26901)        309.0   \n",
       "\n",
       "       n_fires  \n",
       "0            1  \n",
       "1            1  \n",
       "2            1  \n",
       "3            1  \n",
       "4            1  \n",
       "...        ...  \n",
       "15221        1  \n",
       "15222        1  \n",
       "15223        1  \n",
       "15224        1  \n",
       "15225        1  \n",
       "\n",
       "[15226 rows x 5 columns]"
      ]
     },
     "execution_count": 47,
     "metadata": {},
     "output_type": "execute_result"
    }
   ],
   "source": [
    "merged"
   ]
  },
  {
   "cell_type": "code",
   "execution_count": 43,
   "id": "d7fe569f",
   "metadata": {},
   "outputs": [],
   "source": [
    "dissolve = merged.dissolve(by=\"index_right\", aggfunc=\"count\")"
   ]
  },
  {
   "cell_type": "code",
   "execution_count": 44,
   "id": "61fd831c",
   "metadata": {},
   "outputs": [
    {
     "data": {
      "text/html": [
       "<div>\n",
       "<style scoped>\n",
       "    .dataframe tbody tr th:only-of-type {\n",
       "        vertical-align: middle;\n",
       "    }\n",
       "\n",
       "    .dataframe tbody tr th {\n",
       "        vertical-align: top;\n",
       "    }\n",
       "\n",
       "    .dataframe thead th {\n",
       "        text-align: right;\n",
       "    }\n",
       "</style>\n",
       "<table border=\"1\" class=\"dataframe\">\n",
       "  <thead>\n",
       "    <tr style=\"text-align: right;\">\n",
       "      <th></th>\n",
       "      <th>geometry</th>\n",
       "      <th>x</th>\n",
       "      <th>y</th>\n",
       "    </tr>\n",
       "    <tr>\n",
       "      <th>index_right</th>\n",
       "      <th></th>\n",
       "      <th></th>\n",
       "      <th></th>\n",
       "    </tr>\n",
       "  </thead>\n",
       "  <tbody>\n",
       "    <tr>\n",
       "      <th>58.0</th>\n",
       "      <td>POINT (-123.87564 40.69930)</td>\n",
       "      <td>289</td>\n",
       "      <td>289</td>\n",
       "    </tr>\n",
       "    <tr>\n",
       "      <th>86.0</th>\n",
       "      <td>POINT (-123.39149 39.44023)</td>\n",
       "      <td>262</td>\n",
       "      <td>262</td>\n",
       "    </tr>\n",
       "    <tr>\n",
       "      <th>122.0</th>\n",
       "      <td>POINT (-123.11265 40.65071)</td>\n",
       "      <td>209</td>\n",
       "      <td>209</td>\n",
       "    </tr>\n",
       "    <tr>\n",
       "      <th>147.0</th>\n",
       "      <td>POINT (-122.88742 38.52829)</td>\n",
       "      <td>283</td>\n",
       "      <td>283</td>\n",
       "    </tr>\n",
       "    <tr>\n",
       "      <th>177.0</th>\n",
       "      <td>POINT (-122.72409 38.07387)</td>\n",
       "      <td>283</td>\n",
       "      <td>283</td>\n",
       "    </tr>\n",
       "  </tbody>\n",
       "</table>\n",
       "</div>"
      ],
      "text/plain": [
       "                                geometry    x    y\n",
       "index_right                                       \n",
       "58.0         POINT (-123.87564 40.69930)  289  289\n",
       "86.0         POINT (-123.39149 39.44023)  262  262\n",
       "122.0        POINT (-123.11265 40.65071)  209  209\n",
       "147.0        POINT (-122.88742 38.52829)  283  283\n",
       "177.0        POINT (-122.72409 38.07387)  283  283"
      ]
     },
     "execution_count": 44,
     "metadata": {},
     "output_type": "execute_result"
    }
   ],
   "source": [
    "dissolve.head()"
   ]
  },
  {
   "cell_type": "code",
   "execution_count": 45,
   "id": "9af376bd",
   "metadata": {},
   "outputs": [
    {
     "ename": "AttributeError",
     "evalue": "'GeoDataFrame' object has no attribute 'n_fires'",
     "output_type": "error",
     "traceback": [
      "\u001b[0;31m---------------------------------------------------------------------------\u001b[0m",
      "\u001b[0;31mAttributeError\u001b[0m                            Traceback (most recent call last)",
      "Input \u001b[0;32mIn [45]\u001b[0m, in \u001b[0;36m<cell line: 1>\u001b[0;34m()\u001b[0m\n\u001b[0;32m----> 1\u001b[0m cell\u001b[38;5;241m.\u001b[39mloc[dissolve\u001b[38;5;241m.\u001b[39mindex, \u001b[38;5;124m'\u001b[39m\u001b[38;5;124mn_fires\u001b[39m\u001b[38;5;124m'\u001b[39m] \u001b[38;5;241m=\u001b[39m \u001b[43mdissolve\u001b[49m\u001b[38;5;241;43m.\u001b[39;49m\u001b[43mn_fires\u001b[49m\u001b[38;5;241m.\u001b[39mvalues\n",
      "File \u001b[0;32m/opt/anaconda3/lib/python3.8/site-packages/pandas/core/generic.py:5575\u001b[0m, in \u001b[0;36mNDFrame.__getattr__\u001b[0;34m(self, name)\u001b[0m\n\u001b[1;32m   5568\u001b[0m \u001b[38;5;28;01mif\u001b[39;00m (\n\u001b[1;32m   5569\u001b[0m     name \u001b[38;5;129;01mnot\u001b[39;00m \u001b[38;5;129;01min\u001b[39;00m \u001b[38;5;28mself\u001b[39m\u001b[38;5;241m.\u001b[39m_internal_names_set\n\u001b[1;32m   5570\u001b[0m     \u001b[38;5;129;01mand\u001b[39;00m name \u001b[38;5;129;01mnot\u001b[39;00m \u001b[38;5;129;01min\u001b[39;00m \u001b[38;5;28mself\u001b[39m\u001b[38;5;241m.\u001b[39m_metadata\n\u001b[1;32m   5571\u001b[0m     \u001b[38;5;129;01mand\u001b[39;00m name \u001b[38;5;129;01mnot\u001b[39;00m \u001b[38;5;129;01min\u001b[39;00m \u001b[38;5;28mself\u001b[39m\u001b[38;5;241m.\u001b[39m_accessors\n\u001b[1;32m   5572\u001b[0m     \u001b[38;5;129;01mand\u001b[39;00m \u001b[38;5;28mself\u001b[39m\u001b[38;5;241m.\u001b[39m_info_axis\u001b[38;5;241m.\u001b[39m_can_hold_identifiers_and_holds_name(name)\n\u001b[1;32m   5573\u001b[0m ):\n\u001b[1;32m   5574\u001b[0m     \u001b[38;5;28;01mreturn\u001b[39;00m \u001b[38;5;28mself\u001b[39m[name]\n\u001b[0;32m-> 5575\u001b[0m \u001b[38;5;28;01mreturn\u001b[39;00m \u001b[38;5;28;43mobject\u001b[39;49m\u001b[38;5;241;43m.\u001b[39;49m\u001b[38;5;21;43m__getattribute__\u001b[39;49m\u001b[43m(\u001b[49m\u001b[38;5;28;43mself\u001b[39;49m\u001b[43m,\u001b[49m\u001b[43m \u001b[49m\u001b[43mname\u001b[49m\u001b[43m)\u001b[49m\n",
      "\u001b[0;31mAttributeError\u001b[0m: 'GeoDataFrame' object has no attribute 'n_fires'"
     ]
    }
   ],
   "source": [
    "cell.loc[dissolve.index, 'n_fires'] = dissolve.n_fires.values"
   ]
  },
  {
   "cell_type": "code",
   "execution_count": 24,
   "id": "d2df0d84",
   "metadata": {},
   "outputs": [
    {
     "data": {
      "text/plain": [
       "14680"
      ]
     },
     "execution_count": 24,
     "metadata": {},
     "output_type": "execute_result"
    }
   ],
   "source": [
    "sum(dissolve.n_fires.values)"
   ]
  },
  {
   "cell_type": "code",
   "execution_count": 33,
   "id": "61694a80",
   "metadata": {},
   "outputs": [
    {
     "data": {
      "text/plain": [
       "(-124.3238569466887, -114.93876779507161, 32.59332704475833, 42.29125250142906)"
      ]
     },
     "execution_count": 33,
     "metadata": {},
     "output_type": "execute_result"
    },
    {
     "data": {
      "image/png": "[encoded data removed]",
      "text/plain": [
       "<Figure size 864x576 with 1 Axes>"
      ]
     },
     "metadata": {
      "needs_background": "light"
     },
     "output_type": "display_data"
    }
   ],
   "source": []
  },
  {
   "cell_type": "code",
   "execution_count": 179,
   "id": "6d53ffd2",
   "metadata": {},
   "outputs": [],
   "source": [
    "cell1 = cell.reset_index().rename(columns = {'index':'id'})"
   ]
  },
  {
   "cell_type": "code",
   "execution_count": 159,
   "id": "1b00525b",
   "metadata": {},
   "outputs": [
    {
     "data": {
      "text/html": [
       "<div>\n",
       "<style scoped>\n",
       "    .dataframe tbody tr th:only-of-type {\n",
       "        vertical-align: middle;\n",
       "    }\n",
       "\n",
       "    .dataframe tbody tr th {\n",
       "        vertical-align: top;\n",
       "    }\n",
       "\n",
       "    .dataframe thead th {\n",
       "        text-align: right;\n",
       "    }\n",
       "</style>\n",
       "<table border=\"1\" class=\"dataframe\">\n",
       "  <thead>\n",
       "    <tr style=\"text-align: right;\">\n",
       "      <th></th>\n",
       "      <th>id</th>\n",
       "      <th>geometry</th>\n",
       "    </tr>\n",
       "  </thead>\n",
       "  <tbody>\n",
       "    <tr>\n",
       "      <th>0</th>\n",
       "      <td>0</td>\n",
       "      <td>POLYGON ((-124.182 33.034, -124.182 33.319, -1...</td>\n",
       "    </tr>\n",
       "    <tr>\n",
       "      <th>1</th>\n",
       "      <td>1</td>\n",
       "      <td>POLYGON ((-124.182 33.319, -124.182 33.603, -1...</td>\n",
       "    </tr>\n",
       "    <tr>\n",
       "      <th>2</th>\n",
       "      <td>2</td>\n",
       "      <td>POLYGON ((-124.182 33.603, -124.182 33.887, -1...</td>\n",
       "    </tr>\n",
       "    <tr>\n",
       "      <th>3</th>\n",
       "      <td>3</td>\n",
       "      <td>POLYGON ((-124.182 33.887, -124.182 34.172, -1...</td>\n",
       "    </tr>\n",
       "    <tr>\n",
       "      <th>4</th>\n",
       "      <td>4</td>\n",
       "      <td>POLYGON ((-124.182 34.172, -124.182 34.456, -1...</td>\n",
       "    </tr>\n",
       "    <tr>\n",
       "      <th>...</th>\n",
       "      <td>...</td>\n",
       "      <td>...</td>\n",
       "    </tr>\n",
       "    <tr>\n",
       "      <th>1019</th>\n",
       "      <td>1019</td>\n",
       "      <td>POLYGON ((-115.365 40.713, -115.365 40.997, -1...</td>\n",
       "    </tr>\n",
       "    <tr>\n",
       "      <th>1020</th>\n",
       "      <td>1020</td>\n",
       "      <td>POLYGON ((-115.365 40.997, -115.365 41.282, -1...</td>\n",
       "    </tr>\n",
       "    <tr>\n",
       "      <th>1021</th>\n",
       "      <td>1021</td>\n",
       "      <td>POLYGON ((-115.365 41.282, -115.365 41.566, -1...</td>\n",
       "    </tr>\n",
       "    <tr>\n",
       "      <th>1022</th>\n",
       "      <td>1022</td>\n",
       "      <td>POLYGON ((-115.365 41.566, -115.365 41.850, -1...</td>\n",
       "    </tr>\n",
       "    <tr>\n",
       "      <th>1023</th>\n",
       "      <td>1023</td>\n",
       "      <td>POLYGON ((-115.365 41.850, -115.365 42.135, -1...</td>\n",
       "    </tr>\n",
       "  </tbody>\n",
       "</table>\n",
       "<p>1024 rows × 2 columns</p>\n",
       "</div>"
      ],
      "text/plain": [
       "        id                                           geometry\n",
       "0        0  POLYGON ((-124.182 33.034, -124.182 33.319, -1...\n",
       "1        1  POLYGON ((-124.182 33.319, -124.182 33.603, -1...\n",
       "2        2  POLYGON ((-124.182 33.603, -124.182 33.887, -1...\n",
       "3        3  POLYGON ((-124.182 33.887, -124.182 34.172, -1...\n",
       "4        4  POLYGON ((-124.182 34.172, -124.182 34.456, -1...\n",
       "...    ...                                                ...\n",
       "1019  1019  POLYGON ((-115.365 40.713, -115.365 40.997, -1...\n",
       "1020  1020  POLYGON ((-115.365 40.997, -115.365 41.282, -1...\n",
       "1021  1021  POLYGON ((-115.365 41.282, -115.365 41.566, -1...\n",
       "1022  1022  POLYGON ((-115.365 41.566, -115.365 41.850, -1...\n",
       "1023  1023  POLYGON ((-115.365 41.850, -115.365 42.135, -1...\n",
       "\n",
       "[1024 rows x 2 columns]"
      ]
     },
     "execution_count": 159,
     "metadata": {},
     "output_type": "execute_result"
    }
   ],
   "source": [
    "cell1"
   ]
  },
  {
   "cell_type": "code",
   "execution_count": 180,
   "id": "fd3d62b0",
   "metadata": {},
   "outputs": [
    {
     "name": "stderr",
     "output_type": "stream",
     "text": [
      "/opt/anaconda3/lib/python3.8/site-packages/IPython/core/interactiveshell.py:3337: FutureWarning: The `op` parameter is deprecated and will be removed in a future release. Please use the `predicate` parameter instead.\n",
      "  if await self.run_code(code, result, async_=asy):\n",
      "/var/folders/tb/90g6hkm55t9ghflwhwpzcf400000gn/T/ipykernel_33909/2233267576.py:1: UserWarning: CRS mismatch between the CRS of left geometries and the CRS of right geometries.\n",
      "Use `to_crs()` to reproject one of the input geometries to match the CRS of the other.\n",
      "\n",
      "Left CRS: None\n",
      "Right CRS: +proj=sinu +lon_0=0 +x_0=0 +y_0=0 +a=6371007.181 + ...\n",
      "\n",
      "  pointInPolys = gpd.sjoin(points_unique, cell1, how='inner', op = 'intersects')\n"
     ]
    }
   ],
   "source": [
    "pointInPolys = gpd.sjoin(points_unique, cell1, how='inner', op = 'intersects')\n",
    "pointInPolys = pointInPolys.drop_duplicates(subset=['x', 'y'], keep='first')\n",
    "count_points = pointInPolys.groupby(['id']).size().reset_index(name='count')"
   ]
  },
  {
   "cell_type": "code",
   "execution_count": 142,
   "id": "b75546e1",
   "metadata": {},
   "outputs": [
    {
     "name": "stderr",
     "output_type": "stream",
     "text": [
      "/var/folders/tb/90g6hkm55t9ghflwhwpzcf400000gn/T/ipykernel_33909/2856645324.py:1: UserWarning: CRS mismatch between the CRS of left geometries and the CRS of right geometries.\n",
      "Use `to_crs()` to reproject one of the input geometries to match the CRS of the other.\n",
      "\n",
      "Left CRS: None\n",
      "Right CRS: +proj=sinu +lon_0=0 +x_0=0 +y_0=0 +a=6371007.181 + ...\n",
      "\n",
      "  pointInPolys1 = gpd.overlay(points_unique, cell, how='intersection')\n"
     ]
    }
   ],
   "source": [
    "#pointInPolys1 = gpd.overlay(points_unique, cell, how='intersection')"
   ]
  },
  {
   "cell_type": "code",
   "execution_count": 125,
   "id": "84d9d00a",
   "metadata": {},
   "outputs": [
    {
     "data": {
      "text/plain": [
       "56"
      ]
     },
     "execution_count": 125,
     "metadata": {},
     "output_type": "execute_result"
    }
   ],
   "source": [
    "i['count'].sum()"
   ]
  },
  {
   "cell_type": "code",
   "execution_count": 149,
   "id": "44338661",
   "metadata": {},
   "outputs": [
    {
     "data": {
      "text/html": [
       "<div>\n",
       "<style scoped>\n",
       "    .dataframe tbody tr th:only-of-type {\n",
       "        vertical-align: middle;\n",
       "    }\n",
       "\n",
       "    .dataframe tbody tr th {\n",
       "        vertical-align: top;\n",
       "    }\n",
       "\n",
       "    .dataframe thead th {\n",
       "        text-align: right;\n",
       "    }\n",
       "</style>\n",
       "<table border=\"1\" class=\"dataframe\">\n",
       "  <thead>\n",
       "    <tr style=\"text-align: right;\">\n",
       "      <th></th>\n",
       "      <th>x</th>\n",
       "      <th>y</th>\n",
       "      <th>geometry</th>\n",
       "    </tr>\n",
       "  </thead>\n",
       "  <tbody>\n",
       "    <tr>\n",
       "      <th>1195</th>\n",
       "      <td>-123.897262</td>\n",
       "      <td>41.743135</td>\n",
       "      <td>POINT (-123.89726 41.74314)</td>\n",
       "    </tr>\n",
       "    <tr>\n",
       "      <th>99</th>\n",
       "      <td>-123.875643</td>\n",
       "      <td>40.699303</td>\n",
       "      <td>POINT (-123.87564 40.69930)</td>\n",
       "    </tr>\n",
       "    <tr>\n",
       "      <th>558</th>\n",
       "      <td>-123.391486</td>\n",
       "      <td>39.440232</td>\n",
       "      <td>POINT (-123.39149 39.44023)</td>\n",
       "    </tr>\n",
       "    <tr>\n",
       "      <th>3258</th>\n",
       "      <td>-123.112653</td>\n",
       "      <td>40.650707</td>\n",
       "      <td>POINT (-123.11265 40.65071)</td>\n",
       "    </tr>\n",
       "    <tr>\n",
       "      <th>152</th>\n",
       "      <td>-122.887423</td>\n",
       "      <td>38.528292</td>\n",
       "      <td>POINT (-122.88742 38.52829)</td>\n",
       "    </tr>\n",
       "  </tbody>\n",
       "</table>\n",
       "</div>"
      ],
      "text/plain": [
       "               x          y                     geometry\n",
       "1195 -123.897262  41.743135  POINT (-123.89726 41.74314)\n",
       "99   -123.875643  40.699303  POINT (-123.87564 40.69930)\n",
       "558  -123.391486  39.440232  POINT (-123.39149 39.44023)\n",
       "3258 -123.112653  40.650707  POINT (-123.11265 40.65071)\n",
       "152  -122.887423  38.528292  POINT (-122.88742 38.52829)"
      ]
     },
     "execution_count": 149,
     "metadata": {},
     "output_type": "execute_result"
    }
   ],
   "source": [
    "points_unique.sort_values(by = 'x').head()"
   ]
  },
  {
   "cell_type": "code",
   "execution_count": 148,
   "id": "61105283",
   "metadata": {},
   "outputs": [
    {
     "data": {
      "text/html": [
       "<div>\n",
       "<style scoped>\n",
       "    .dataframe tbody tr th:only-of-type {\n",
       "        vertical-align: middle;\n",
       "    }\n",
       "\n",
       "    .dataframe tbody tr th {\n",
       "        vertical-align: top;\n",
       "    }\n",
       "\n",
       "    .dataframe thead th {\n",
       "        text-align: right;\n",
       "    }\n",
       "</style>\n",
       "<table border=\"1\" class=\"dataframe\">\n",
       "  <thead>\n",
       "    <tr style=\"text-align: right;\">\n",
       "      <th></th>\n",
       "      <th>x</th>\n",
       "      <th>y</th>\n",
       "      <th>geometry</th>\n",
       "      <th>index_right</th>\n",
       "    </tr>\n",
       "  </thead>\n",
       "  <tbody>\n",
       "    <tr>\n",
       "      <th>1195</th>\n",
       "      <td>-123.897262</td>\n",
       "      <td>41.743135</td>\n",
       "      <td>POINT (-123.89726 41.74314)</td>\n",
       "      <td>30</td>\n",
       "    </tr>\n",
       "    <tr>\n",
       "      <th>1195</th>\n",
       "      <td>-123.897262</td>\n",
       "      <td>41.743135</td>\n",
       "      <td>POINT (-123.89726 41.74314)</td>\n",
       "      <td>62</td>\n",
       "    </tr>\n",
       "    <tr>\n",
       "      <th>99</th>\n",
       "      <td>-123.875643</td>\n",
       "      <td>40.699303</td>\n",
       "      <td>POINT (-123.87564 40.69930)</td>\n",
       "      <td>58</td>\n",
       "    </tr>\n",
       "    <tr>\n",
       "      <th>558</th>\n",
       "      <td>-123.391486</td>\n",
       "      <td>39.440232</td>\n",
       "      <td>POINT (-123.39149 39.44023)</td>\n",
       "      <td>86</td>\n",
       "    </tr>\n",
       "    <tr>\n",
       "      <th>3258</th>\n",
       "      <td>-123.112653</td>\n",
       "      <td>40.650707</td>\n",
       "      <td>POINT (-123.11265 40.65071)</td>\n",
       "      <td>122</td>\n",
       "    </tr>\n",
       "  </tbody>\n",
       "</table>\n",
       "</div>"
      ],
      "text/plain": [
       "               x          y                     geometry  index_right\n",
       "1195 -123.897262  41.743135  POINT (-123.89726 41.74314)           30\n",
       "1195 -123.897262  41.743135  POINT (-123.89726 41.74314)           62\n",
       "99   -123.875643  40.699303  POINT (-123.87564 40.69930)           58\n",
       "558  -123.391486  39.440232  POINT (-123.39149 39.44023)           86\n",
       "3258 -123.112653  40.650707  POINT (-123.11265 40.65071)          122"
      ]
     },
     "execution_count": 148,
     "metadata": {},
     "output_type": "execute_result"
    }
   ],
   "source": [
    "pointInPolys.sort_values(by = 'x').head()"
   ]
  },
  {
   "cell_type": "markdown",
   "id": "ee8d2c13",
   "metadata": {},
   "source": [
    "Remove the duplicate point that is created while merging, because it is counted into 2 different cells"
   ]
  },
  {
   "cell_type": "code",
   "execution_count": 169,
   "id": "33825341",
   "metadata": {},
   "outputs": [],
   "source": []
  },
  {
   "cell_type": "code",
   "execution_count": 151,
   "id": "8c2b64a9",
   "metadata": {},
   "outputs": [
    {
     "data": {
      "text/plain": [
       "x              58\n",
       "y              58\n",
       "geometry       58\n",
       "index_right    58\n",
       "dtype: int64"
      ]
     },
     "execution_count": 151,
     "metadata": {},
     "output_type": "execute_result"
    }
   ],
   "source": [
    "pointInPolys.count()"
   ]
  },
  {
   "cell_type": "code",
   "execution_count": 157,
   "id": "57f8ef06",
   "metadata": {},
   "outputs": [
    {
     "data": {
      "text/html": [
       "<div>\n",
       "<style scoped>\n",
       "    .dataframe tbody tr th:only-of-type {\n",
       "        vertical-align: middle;\n",
       "    }\n",
       "\n",
       "    .dataframe tbody tr th {\n",
       "        vertical-align: top;\n",
       "    }\n",
       "\n",
       "    .dataframe thead th {\n",
       "        text-align: right;\n",
       "    }\n",
       "</style>\n",
       "<table border=\"1\" class=\"dataframe\">\n",
       "  <thead>\n",
       "    <tr style=\"text-align: right;\">\n",
       "      <th></th>\n",
       "      <th>x</th>\n",
       "      <th>y</th>\n",
       "      <th>geometry</th>\n",
       "      <th>index_right</th>\n",
       "    </tr>\n",
       "  </thead>\n",
       "  <tbody>\n",
       "    <tr>\n",
       "      <th>0</th>\n",
       "      <td>-117.761091</td>\n",
       "      <td>33.702979</td>\n",
       "      <td>POINT (-117.76109 33.70298)</td>\n",
       "      <td>706</td>\n",
       "    </tr>\n",
       "    <tr>\n",
       "      <th>1</th>\n",
       "      <td>-118.217049</td>\n",
       "      <td>34.358922</td>\n",
       "      <td>POINT (-118.21705 34.35892)</td>\n",
       "      <td>644</td>\n",
       "    </tr>\n",
       "    <tr>\n",
       "      <th>13</th>\n",
       "      <td>-121.695141</td>\n",
       "      <td>37.231795</td>\n",
       "      <td>POINT (-121.69514 37.23179)</td>\n",
       "      <td>270</td>\n",
       "    </tr>\n",
       "    <tr>\n",
       "      <th>19</th>\n",
       "      <td>-122.440883</td>\n",
       "      <td>37.755130</td>\n",
       "      <td>POINT (-122.44088 37.75513)</td>\n",
       "      <td>208</td>\n",
       "    </tr>\n",
       "    <tr>\n",
       "      <th>51</th>\n",
       "      <td>-116.735305</td>\n",
       "      <td>33.034142</td>\n",
       "      <td>POINT (-116.73531 33.03414)</td>\n",
       "      <td>832</td>\n",
       "    </tr>\n",
       "  </tbody>\n",
       "</table>\n",
       "</div>"
      ],
      "text/plain": [
       "             x          y                     geometry  index_right\n",
       "0  -117.761091  33.702979  POINT (-117.76109 33.70298)          706\n",
       "1  -118.217049  34.358922  POINT (-118.21705 34.35892)          644\n",
       "13 -121.695141  37.231795  POINT (-121.69514 37.23179)          270\n",
       "19 -122.440883  37.755130  POINT (-122.44088 37.75513)          208\n",
       "51 -116.735305  33.034142  POINT (-116.73531 33.03414)          832"
      ]
     },
     "execution_count": 157,
     "metadata": {},
     "output_type": "execute_result"
    }
   ],
   "source": [
    "pointInPolys.head()\n"
   ]
  },
  {
   "cell_type": "code",
   "execution_count": 161,
   "id": "ba9f279c",
   "metadata": {},
   "outputs": [
    {
     "data": {
      "text/html": [
       "<div>\n",
       "<style scoped>\n",
       "    .dataframe tbody tr th:only-of-type {\n",
       "        vertical-align: middle;\n",
       "    }\n",
       "\n",
       "    .dataframe tbody tr th {\n",
       "        vertical-align: top;\n",
       "    }\n",
       "\n",
       "    .dataframe thead th {\n",
       "        text-align: right;\n",
       "    }\n",
       "</style>\n",
       "<table border=\"1\" class=\"dataframe\">\n",
       "  <thead>\n",
       "    <tr style=\"text-align: right;\">\n",
       "      <th></th>\n",
       "      <th>id</th>\n",
       "      <th>count</th>\n",
       "    </tr>\n",
       "  </thead>\n",
       "  <tbody>\n",
       "    <tr>\n",
       "      <th>0</th>\n",
       "      <td>30</td>\n",
       "      <td>1</td>\n",
       "    </tr>\n",
       "    <tr>\n",
       "      <th>1</th>\n",
       "      <td>58</td>\n",
       "      <td>1</td>\n",
       "    </tr>\n",
       "    <tr>\n",
       "      <th>2</th>\n",
       "      <td>62</td>\n",
       "      <td>1</td>\n",
       "    </tr>\n",
       "    <tr>\n",
       "      <th>3</th>\n",
       "      <td>86</td>\n",
       "      <td>1</td>\n",
       "    </tr>\n",
       "    <tr>\n",
       "      <th>4</th>\n",
       "      <td>122</td>\n",
       "      <td>1</td>\n",
       "    </tr>\n",
       "  </tbody>\n",
       "</table>\n",
       "</div>"
      ],
      "text/plain": [
       "    id  count\n",
       "0   30      1\n",
       "1   58      1\n",
       "2   62      1\n",
       "3   86      1\n",
       "4  122      1"
      ]
     },
     "execution_count": 161,
     "metadata": {},
     "output_type": "execute_result"
    }
   ],
   "source": [
    "count_points.head()"
   ]
  },
  {
   "cell_type": "code",
   "execution_count": 162,
   "id": "7bdc2420",
   "metadata": {},
   "outputs": [
    {
     "data": {
      "text/html": [
       "<div>\n",
       "<style scoped>\n",
       "    .dataframe tbody tr th:only-of-type {\n",
       "        vertical-align: middle;\n",
       "    }\n",
       "\n",
       "    .dataframe tbody tr th {\n",
       "        vertical-align: top;\n",
       "    }\n",
       "\n",
       "    .dataframe thead th {\n",
       "        text-align: right;\n",
       "    }\n",
       "</style>\n",
       "<table border=\"1\" class=\"dataframe\">\n",
       "  <thead>\n",
       "    <tr style=\"text-align: right;\">\n",
       "      <th></th>\n",
       "      <th>id</th>\n",
       "      <th>geometry</th>\n",
       "    </tr>\n",
       "  </thead>\n",
       "  <tbody>\n",
       "    <tr>\n",
       "      <th>0</th>\n",
       "      <td>0</td>\n",
       "      <td>POLYGON ((-124.182 33.034, -124.182 33.319, -1...</td>\n",
       "    </tr>\n",
       "    <tr>\n",
       "      <th>1</th>\n",
       "      <td>1</td>\n",
       "      <td>POLYGON ((-124.182 33.319, -124.182 33.603, -1...</td>\n",
       "    </tr>\n",
       "    <tr>\n",
       "      <th>2</th>\n",
       "      <td>2</td>\n",
       "      <td>POLYGON ((-124.182 33.603, -124.182 33.887, -1...</td>\n",
       "    </tr>\n",
       "    <tr>\n",
       "      <th>3</th>\n",
       "      <td>3</td>\n",
       "      <td>POLYGON ((-124.182 33.887, -124.182 34.172, -1...</td>\n",
       "    </tr>\n",
       "    <tr>\n",
       "      <th>4</th>\n",
       "      <td>4</td>\n",
       "      <td>POLYGON ((-124.182 34.172, -124.182 34.456, -1...</td>\n",
       "    </tr>\n",
       "  </tbody>\n",
       "</table>\n",
       "</div>"
      ],
      "text/plain": [
       "   id                                           geometry\n",
       "0   0  POLYGON ((-124.182 33.034, -124.182 33.319, -1...\n",
       "1   1  POLYGON ((-124.182 33.319, -124.182 33.603, -1...\n",
       "2   2  POLYGON ((-124.182 33.603, -124.182 33.887, -1...\n",
       "3   3  POLYGON ((-124.182 33.887, -124.182 34.172, -1...\n",
       "4   4  POLYGON ((-124.182 34.172, -124.182 34.456, -1..."
      ]
     },
     "execution_count": 162,
     "metadata": {},
     "output_type": "execute_result"
    }
   ],
   "source": [
    "cell1.head()"
   ]
  },
  {
   "cell_type": "code",
   "execution_count": 305,
   "id": "93b9f8fb",
   "metadata": {},
   "outputs": [],
   "source": [
    "cell_counts = pd.merge(cell1,count_points, on = 'id')"
   ]
  },
  {
   "cell_type": "code",
   "execution_count": 184,
   "id": "a50c1959",
   "metadata": {},
   "outputs": [
    {
     "data": {
      "text/html": [
       "<div>\n",
       "<style scoped>\n",
       "    .dataframe tbody tr th:only-of-type {\n",
       "        vertical-align: middle;\n",
       "    }\n",
       "\n",
       "    .dataframe tbody tr th {\n",
       "        vertical-align: top;\n",
       "    }\n",
       "\n",
       "    .dataframe thead th {\n",
       "        text-align: right;\n",
       "    }\n",
       "</style>\n",
       "<table border=\"1\" class=\"dataframe\">\n",
       "  <thead>\n",
       "    <tr style=\"text-align: right;\">\n",
       "      <th></th>\n",
       "      <th>id</th>\n",
       "      <th>geometry</th>\n",
       "      <th>count</th>\n",
       "    </tr>\n",
       "  </thead>\n",
       "  <tbody>\n",
       "    <tr>\n",
       "      <th>0</th>\n",
       "      <td>11</td>\n",
       "      <td>POLYGON ((-124.659 41.412, -124.659 42.173, -1...</td>\n",
       "      <td>1</td>\n",
       "    </tr>\n",
       "    <tr>\n",
       "      <th>1</th>\n",
       "      <td>21</td>\n",
       "      <td>POLYGON ((-123.897 39.127, -123.897 39.889, -1...</td>\n",
       "      <td>1</td>\n",
       "    </tr>\n",
       "    <tr>\n",
       "      <th>2</th>\n",
       "      <td>23</td>\n",
       "      <td>POLYGON ((-123.897 40.650, -123.897 41.412, -1...</td>\n",
       "      <td>1</td>\n",
       "    </tr>\n",
       "    <tr>\n",
       "      <th>3</th>\n",
       "      <td>32</td>\n",
       "      <td>POLYGON ((-123.136 37.604, -123.136 38.365, -1...</td>\n",
       "      <td>2</td>\n",
       "    </tr>\n",
       "    <tr>\n",
       "      <th>4</th>\n",
       "      <td>33</td>\n",
       "      <td>POLYGON ((-123.136 38.365, -123.136 39.127, -1...</td>\n",
       "      <td>2</td>\n",
       "    </tr>\n",
       "  </tbody>\n",
       "</table>\n",
       "</div>"
      ],
      "text/plain": [
       "   id                                           geometry  count\n",
       "0  11  POLYGON ((-124.659 41.412, -124.659 42.173, -1...      1\n",
       "1  21  POLYGON ((-123.897 39.127, -123.897 39.889, -1...      1\n",
       "2  23  POLYGON ((-123.897 40.650, -123.897 41.412, -1...      1\n",
       "3  32  POLYGON ((-123.136 37.604, -123.136 38.365, -1...      2\n",
       "4  33  POLYGON ((-123.136 38.365, -123.136 39.127, -1...      2"
      ]
     },
     "execution_count": 184,
     "metadata": {},
     "output_type": "execute_result"
    }
   ],
   "source": [
    "cell_counts.head()"
   ]
  },
  {
   "cell_type": "markdown",
   "id": "afe2ca04",
   "metadata": {},
   "source": [
    "The parameter D and D′ are neighboring datasets; R is the real space; d is the dimension; and ||f(D) − f(D′)||1 is the first-order norm distance [25]. For instance, the global sensitivity of count function is 1."
   ]
  },
  {
   "cell_type": "code",
   "execution_count": 276,
   "id": "6bf42a6f",
   "metadata": {},
   "outputs": [],
   "source": [
    "eps = 1"
   ]
  },
  {
   "cell_type": "code",
   "execution_count": 277,
   "id": "59fb1610",
   "metadata": {},
   "outputs": [],
   "source": [
    "#cell_counts['dp_count'] = cell_counts['count']+np.random.laplace(0, 1 / eps, 1)[0]\n"
   ]
  },
  {
   "cell_type": "code",
   "execution_count": 288,
   "id": "bb790807",
   "metadata": {},
   "outputs": [],
   "source": []
  },
  {
   "cell_type": "code",
   "execution_count": 320,
   "id": "69553f75",
   "metadata": {},
   "outputs": [],
   "source": [
    "dp_count = []\n",
    "for row in cell_counts.iterrows():\n",
    "    dp_count.append(row[1]['count']+np.random.laplace(1, 1 / eps, 1)[0])"
   ]
  },
  {
   "cell_type": "code",
   "execution_count": 321,
   "id": "40c8fae3",
   "metadata": {
    "scrolled": true
   },
   "outputs": [],
   "source": [
    "cell_counts['count_dp'] = dp_count"
   ]
  },
  {
   "cell_type": "code",
   "execution_count": null,
   "id": "e3f70c4b",
   "metadata": {},
   "outputs": [],
   "source": []
  },
  {
   "cell_type": "code",
   "execution_count": 322,
   "id": "8b33bea6",
   "metadata": {},
   "outputs": [],
   "source": [
    "noise = np.random.laplace(0,1/0.1,1)"
   ]
  },
  {
   "cell_type": "code",
   "execution_count": 323,
   "id": "2605820b",
   "metadata": {},
   "outputs": [],
   "source": [
    "cell_counts['count_dp_rounded'] = round(cell_counts['count_dp'])"
   ]
  },
  {
   "cell_type": "code",
   "execution_count": 324,
   "id": "d0dcdcb2",
   "metadata": {},
   "outputs": [
    {
     "data": {
      "text/html": [
       "<div>\n",
       "<style scoped>\n",
       "    .dataframe tbody tr th:only-of-type {\n",
       "        vertical-align: middle;\n",
       "    }\n",
       "\n",
       "    .dataframe tbody tr th {\n",
       "        vertical-align: top;\n",
       "    }\n",
       "\n",
       "    .dataframe thead th {\n",
       "        text-align: right;\n",
       "    }\n",
       "</style>\n",
       "<table border=\"1\" class=\"dataframe\">\n",
       "  <thead>\n",
       "    <tr style=\"text-align: right;\">\n",
       "      <th></th>\n",
       "      <th>id</th>\n",
       "      <th>geometry</th>\n",
       "      <th>count</th>\n",
       "      <th>count_dp</th>\n",
       "      <th>count_dp_rounded</th>\n",
       "    </tr>\n",
       "  </thead>\n",
       "  <tbody>\n",
       "    <tr>\n",
       "      <th>0</th>\n",
       "      <td>11</td>\n",
       "      <td>POLYGON ((-124.659 41.412, -124.659 42.173, -1...</td>\n",
       "      <td>1</td>\n",
       "      <td>0.150707</td>\n",
       "      <td>0.0</td>\n",
       "    </tr>\n",
       "    <tr>\n",
       "      <th>1</th>\n",
       "      <td>21</td>\n",
       "      <td>POLYGON ((-123.897 39.127, -123.897 39.889, -1...</td>\n",
       "      <td>1</td>\n",
       "      <td>2.929312</td>\n",
       "      <td>3.0</td>\n",
       "    </tr>\n",
       "    <tr>\n",
       "      <th>2</th>\n",
       "      <td>23</td>\n",
       "      <td>POLYGON ((-123.897 40.650, -123.897 41.412, -1...</td>\n",
       "      <td>1</td>\n",
       "      <td>1.095417</td>\n",
       "      <td>1.0</td>\n",
       "    </tr>\n",
       "    <tr>\n",
       "      <th>3</th>\n",
       "      <td>32</td>\n",
       "      <td>POLYGON ((-123.136 37.604, -123.136 38.365, -1...</td>\n",
       "      <td>2</td>\n",
       "      <td>2.835891</td>\n",
       "      <td>3.0</td>\n",
       "    </tr>\n",
       "    <tr>\n",
       "      <th>4</th>\n",
       "      <td>33</td>\n",
       "      <td>POLYGON ((-123.136 38.365, -123.136 39.127, -1...</td>\n",
       "      <td>2</td>\n",
       "      <td>2.487105</td>\n",
       "      <td>2.0</td>\n",
       "    </tr>\n",
       "  </tbody>\n",
       "</table>\n",
       "</div>"
      ],
      "text/plain": [
       "   id                                           geometry  count  count_dp  \\\n",
       "0  11  POLYGON ((-124.659 41.412, -124.659 42.173, -1...      1  0.150707   \n",
       "1  21  POLYGON ((-123.897 39.127, -123.897 39.889, -1...      1  2.929312   \n",
       "2  23  POLYGON ((-123.897 40.650, -123.897 41.412, -1...      1  1.095417   \n",
       "3  32  POLYGON ((-123.136 37.604, -123.136 38.365, -1...      2  2.835891   \n",
       "4  33  POLYGON ((-123.136 38.365, -123.136 39.127, -1...      2  2.487105   \n",
       "\n",
       "   count_dp_rounded  \n",
       "0               0.0  \n",
       "1               3.0  \n",
       "2               1.0  \n",
       "3               3.0  \n",
       "4               2.0  "
      ]
     },
     "execution_count": 324,
     "metadata": {},
     "output_type": "execute_result"
    }
   ],
   "source": [
    "cell_counts.head()"
   ]
  },
  {
   "cell_type": "code",
   "execution_count": 328,
   "id": "3d6705d8",
   "metadata": {},
   "outputs": [],
   "source": [
    "#cell_counts['geometry']"
   ]
  },
  {
   "cell_type": "code",
   "execution_count": 329,
   "id": "eb5ffb3e",
   "metadata": {},
   "outputs": [
    {
     "name": "stdout",
     "output_type": "stream",
     "text": [
      "POLYGON ((-124.6588619852515620 41.4117418382433868, -124.6588619852515620 42.1733418382433882, -123.8972619852515606 42.1733418382433882, -123.8972619852515606 41.4117418382433868, -124.6588619852515620 41.4117418382433868))\n"
     ]
    }
   ],
   "source": [
    "from shapely import wkt\n",
    "wkt_string = wkt.dumps(cell_counts['geometry'][0])\n",
    "print(wkt_string)"
   ]
  },
  {
   "cell_type": "code",
   "execution_count": 332,
   "id": "6b7ebd1a",
   "metadata": {},
   "outputs": [],
   "source": [
    "def new_points():\n",
    "    cursor, conn = db_conn()\n",
    "    cursor.execute(\"select st_asText(ST_GeneratePoints(ST_GeomFromText('POLYGON ((-124.6588619852515620 41.4117418382433868, -124.6588619852515620 42.1733418382433882, -123.8972619852515606 42.1733418382433882, -123.8972619852515606 41.4117418382433868, -124.6588619852515620 41.4117418382433868))'),3));\")\n",
    "    \n",
    "    rows = cursor.fetchall()\n",
    "    cursor.close()\n",
    "\n",
    "    result = []\n",
    "    for index in range(len(rows)):\n",
    "        result.append([\n",
    "            rows[index][0]\n",
    "            \n",
    "        ])\n",
    "\n",
    "    return result"
   ]
  },
  {
   "cell_type": "code",
   "execution_count": 342,
   "id": "154220ab",
   "metadata": {},
   "outputs": [],
   "source": [
    "def new_points1():\n",
    "    cursor, conn = db_conn()\n",
    "    sql = \"select st_asText(ST_GeneratePoints(ST_GeomFromText('POLYGON ((-124.6588619852515620 41.4117418382433868, -124.6588619852515620 42.1733418382433882, -123.8972619852515606 42.1733418382433882, -123.8972619852515606 41.4117418382433868, -124.6588619852515620 41.4117418382433868))'),3));\"\n",
    "    \n",
    "    gdf = gpd.read_postgis(sql, conn, geom_col='geometry', crs=4326)"
   ]
  },
  {
   "cell_type": "code",
   "execution_count": 343,
   "id": "ff5dabbd",
   "metadata": {},
   "outputs": [
    {
     "ename": "ValueError",
     "evalue": "Query missing geometry column 'geometry'",
     "output_type": "error",
     "traceback": [
      "\u001b[0;31m---------------------------------------------------------------------------\u001b[0m",
      "\u001b[0;31mValueError\u001b[0m                                Traceback (most recent call last)",
      "Input \u001b[0;32mIn [343]\u001b[0m, in \u001b[0;36m<cell line: 1>\u001b[0;34m()\u001b[0m\n\u001b[0;32m----> 1\u001b[0m \u001b[43mnew_points1\u001b[49m\u001b[43m(\u001b[49m\u001b[43m)\u001b[49m\n",
      "Input \u001b[0;32mIn [342]\u001b[0m, in \u001b[0;36mnew_points1\u001b[0;34m()\u001b[0m\n\u001b[1;32m      2\u001b[0m cursor, conn \u001b[38;5;241m=\u001b[39m db_conn()\n\u001b[1;32m      3\u001b[0m sql \u001b[38;5;241m=\u001b[39m \u001b[38;5;124m\"\u001b[39m\u001b[38;5;124mselect st_asText(ST_GeneratePoints(ST_GeomFromText(\u001b[39m\u001b[38;5;124m'\u001b[39m\u001b[38;5;124mPOLYGON ((-124.6588619852515620 41.4117418382433868, -124.6588619852515620 42.1733418382433882, -123.8972619852515606 42.1733418382433882, -123.8972619852515606 41.4117418382433868, -124.6588619852515620 41.4117418382433868))\u001b[39m\u001b[38;5;124m'\u001b[39m\u001b[38;5;124m),3));\u001b[39m\u001b[38;5;124m\"\u001b[39m\n\u001b[0;32m----> 5\u001b[0m gdf \u001b[38;5;241m=\u001b[39m \u001b[43mgpd\u001b[49m\u001b[38;5;241;43m.\u001b[39;49m\u001b[43mread_postgis\u001b[49m\u001b[43m(\u001b[49m\u001b[43msql\u001b[49m\u001b[43m,\u001b[49m\u001b[43m \u001b[49m\u001b[43mconn\u001b[49m\u001b[43m,\u001b[49m\u001b[43m \u001b[49m\u001b[43mgeom_col\u001b[49m\u001b[38;5;241;43m=\u001b[39;49m\u001b[38;5;124;43m'\u001b[39;49m\u001b[38;5;124;43mgeometry\u001b[39;49m\u001b[38;5;124;43m'\u001b[39;49m\u001b[43m,\u001b[49m\u001b[43m \u001b[49m\u001b[43mcrs\u001b[49m\u001b[38;5;241;43m=\u001b[39;49m\u001b[38;5;241;43m4326\u001b[39;49m\u001b[43m)\u001b[49m\n",
      "File \u001b[0;32m/opt/anaconda3/lib/python3.8/site-packages/geopandas/io/sql.py:163\u001b[0m, in \u001b[0;36m_read_postgis\u001b[0;34m(sql, con, geom_col, crs, index_col, coerce_float, parse_dates, params, chunksize)\u001b[0m\n\u001b[1;32m    152\u001b[0m \u001b[38;5;28;01mif\u001b[39;00m chunksize \u001b[38;5;129;01mis\u001b[39;00m \u001b[38;5;28;01mNone\u001b[39;00m:\n\u001b[1;32m    153\u001b[0m     \u001b[38;5;66;03m# read all in one chunk and return a single GeoDataFrame\u001b[39;00m\n\u001b[1;32m    154\u001b[0m     df \u001b[38;5;241m=\u001b[39m pd\u001b[38;5;241m.\u001b[39mread_sql(\n\u001b[1;32m    155\u001b[0m         sql,\n\u001b[1;32m    156\u001b[0m         con,\n\u001b[0;32m   (...)\u001b[0m\n\u001b[1;32m    161\u001b[0m         chunksize\u001b[38;5;241m=\u001b[39mchunksize,\n\u001b[1;32m    162\u001b[0m     )\n\u001b[0;32m--> 163\u001b[0m     \u001b[38;5;28;01mreturn\u001b[39;00m \u001b[43m_df_to_geodf\u001b[49m\u001b[43m(\u001b[49m\u001b[43mdf\u001b[49m\u001b[43m,\u001b[49m\u001b[43m \u001b[49m\u001b[43mgeom_col\u001b[49m\u001b[38;5;241;43m=\u001b[39;49m\u001b[43mgeom_col\u001b[49m\u001b[43m,\u001b[49m\u001b[43m \u001b[49m\u001b[43mcrs\u001b[49m\u001b[38;5;241;43m=\u001b[39;49m\u001b[43mcrs\u001b[49m\u001b[43m)\u001b[49m\n\u001b[1;32m    165\u001b[0m \u001b[38;5;28;01melse\u001b[39;00m:\n\u001b[1;32m    166\u001b[0m     \u001b[38;5;66;03m# read data in chunks and return a generator\u001b[39;00m\n\u001b[1;32m    167\u001b[0m     df_generator \u001b[38;5;241m=\u001b[39m pd\u001b[38;5;241m.\u001b[39mread_sql(\n\u001b[1;32m    168\u001b[0m         sql,\n\u001b[1;32m    169\u001b[0m         con,\n\u001b[0;32m   (...)\u001b[0m\n\u001b[1;32m    174\u001b[0m         chunksize\u001b[38;5;241m=\u001b[39mchunksize,\n\u001b[1;32m    175\u001b[0m     )\n",
      "File \u001b[0;32m/opt/anaconda3/lib/python3.8/site-packages/geopandas/io/sql.py:65\u001b[0m, in \u001b[0;36m_df_to_geodf\u001b[0;34m(df, geom_col, crs)\u001b[0m\n\u001b[1;32m     43\u001b[0m \u001b[38;5;124;03m\"\"\"\u001b[39;00m\n\u001b[1;32m     44\u001b[0m \u001b[38;5;124;03mTransforms a pandas DataFrame into a GeoDataFrame.\u001b[39;00m\n\u001b[1;32m     45\u001b[0m \u001b[38;5;124;03mThe column 'geom_col' must be a geometry column in WKB representation.\u001b[39;00m\n\u001b[0;32m   (...)\u001b[0m\n\u001b[1;32m     61\u001b[0m \u001b[38;5;124;03mGeoDataFrame\u001b[39;00m\n\u001b[1;32m     62\u001b[0m \u001b[38;5;124;03m\"\"\"\u001b[39;00m\n\u001b[1;32m     64\u001b[0m \u001b[38;5;28;01mif\u001b[39;00m geom_col \u001b[38;5;129;01mnot\u001b[39;00m \u001b[38;5;129;01min\u001b[39;00m df:\n\u001b[0;32m---> 65\u001b[0m     \u001b[38;5;28;01mraise\u001b[39;00m \u001b[38;5;167;01mValueError\u001b[39;00m(\u001b[38;5;124m\"\u001b[39m\u001b[38;5;124mQuery missing geometry column \u001b[39m\u001b[38;5;124m'\u001b[39m\u001b[38;5;132;01m{}\u001b[39;00m\u001b[38;5;124m'\u001b[39m\u001b[38;5;124m\"\u001b[39m\u001b[38;5;241m.\u001b[39mformat(geom_col))\n\u001b[1;32m     67\u001b[0m geoms \u001b[38;5;241m=\u001b[39m df[geom_col]\u001b[38;5;241m.\u001b[39mdropna()\n\u001b[1;32m     69\u001b[0m \u001b[38;5;28;01mif\u001b[39;00m \u001b[38;5;129;01mnot\u001b[39;00m geoms\u001b[38;5;241m.\u001b[39mempty:\n",
      "\u001b[0;31mValueError\u001b[0m: Query missing geometry column 'geometry'"
     ]
    }
   ],
   "source": [
    "new_points1()"
   ]
  },
  {
   "cell_type": "code",
   "execution_count": 337,
   "id": "b5b98098",
   "metadata": {},
   "outputs": [
    {
     "data": {
      "text/plain": [
       "[['MULTIPOINT(-124.28509511140895 41.49030306679869,-124.48416382351053 42.11606281942623,-124.03476331549984 41.985243409816675)']]"
      ]
     },
     "execution_count": 337,
     "metadata": {},
     "output_type": "execute_result"
    }
   ],
   "source": [
    "multipoints = new_points()\n",
    "multipoints"
   ]
  },
  {
   "cell_type": "code",
   "execution_count": 336,
   "id": "d5030a21",
   "metadata": {},
   "outputs": [
    {
     "ename": "AttributeError",
     "evalue": "'list' object has no attribute 'plot'",
     "output_type": "error",
     "traceback": [
      "\u001b[0;31m---------------------------------------------------------------------------\u001b[0m",
      "\u001b[0;31mAttributeError\u001b[0m                            Traceback (most recent call last)",
      "Input \u001b[0;32mIn [336]\u001b[0m, in \u001b[0;36m<cell line: 1>\u001b[0;34m()\u001b[0m\n\u001b[0;32m----> 1\u001b[0m \u001b[43mmultipoints\u001b[49m\u001b[38;5;241;43m.\u001b[39;49m\u001b[43mplot\u001b[49m(marker\u001b[38;5;241m=\u001b[39m\u001b[38;5;124m'\u001b[39m\u001b[38;5;124m*\u001b[39m\u001b[38;5;124m'\u001b[39m, color\u001b[38;5;241m=\u001b[39m\u001b[38;5;124m'\u001b[39m\u001b[38;5;124mred\u001b[39m\u001b[38;5;124m'\u001b[39m, markersize\u001b[38;5;241m=\u001b[39m\u001b[38;5;241m12\u001b[39m, figsize\u001b[38;5;241m=\u001b[39m(\u001b[38;5;241m4\u001b[39m, \u001b[38;5;241m4\u001b[39m))\n",
      "\u001b[0;31mAttributeError\u001b[0m: 'list' object has no attribute 'plot'"
     ]
    }
   ],
   "source": [
    "multipoints.plot(marker='*', color='red', markersize=12, figsize=(4, 4))"
   ]
  },
  {
   "cell_type": "code",
   "execution_count": null,
   "id": "b16dbadb",
   "metadata": {},
   "outputs": [],
   "source": []
  }
 ],
 "metadata": {
  "kernelspec": {
   "display_name": "Python 3 (ipykernel)",
   "language": "python",
   "name": "python3"
  },
  "language_info": {
   "codemirror_mode": {
    "name": "ipython",
    "version": 3
   },
   "file_extension": ".py",
   "mimetype": "text/x-python",
   "name": "python",
   "nbconvert_exporter": "python",
   "pygments_lexer": "ipython3",
   "version": "3.8.3"
  }
 },
 "nbformat": 4,
 "nbformat_minor": 5
}
